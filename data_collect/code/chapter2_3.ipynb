{
 "cells": [
  {
   "cell_type": "code",
   "execution_count": 1,
   "metadata": {},
   "outputs": [
    {
     "name": "stdout",
     "output_type": "stream",
     "text": [
      "重复: https://education.github.com\n",
      "重复: https://desktop.github.com/\n",
      "重复: http://httpbin.org\n",
      "重复: https://httpbin.org\n"
     ]
    }
   ],
   "source": [
    "import requests, re\n",
    "count = 3\n",
    "recount = 0\n",
    "allcount = 1\n",
    "r = re.compile(r'href=[\\'\"]?(http[^\\'\" >]+)')\n",
    "seed = 'http://httpbin.org/'\n",
    "queue = [seed]\n",
    "used = set()\n",
    "storage = {}\n",
    "while len(queue) > 0 and count > 0:\n",
    "    try:\n",
    "        url = queue.pop(0)\n",
    "        html = requests.get(url, timeout=5).text\n",
    "        storage[url] = html\n",
    "        used.add(url)\n",
    "        new_urls = r.findall(html)\n",
    "        for new_url in new_urls:\n",
    "            allcount += 1\n",
    "            if new_url not in used and new_url not in queue:\n",
    "                queue.append(new_url)\n",
    "            else:\n",
    "                print(\"重复: \"+new_url)\n",
    "                recount += 1\n",
    "        count -= 1\n",
    "    except Exception as e:\n",
    "        print (url)\n",
    "        print (e)\n",
    "        "
   ]
  },
  {
   "cell_type": "code",
   "execution_count": 29,
   "metadata": {},
   "outputs": [
    {
     "name": "stdout",
     "output_type": "stream",
     "text": [
      "重复网站: 4\n",
      "总网站: 64\n",
      "https://kennethreitz.org 1\n",
      "https://github.com/rochacbruno/flasgger 1\n",
      "https://github.githubassets.com 1\n",
      "https://avatars0.githubusercontent.com 1\n",
      "https://avatars1.githubusercontent.com 1\n",
      "https://avatars2.githubusercontent.com 1\n",
      "https://avatars3.githubusercontent.com 1\n",
      "https://github-cloud.s3.amazonaws.com 1\n",
      "https://user-images.githubusercontent.com/ 1\n",
      "https://github.githubassets.com/assets/frameworks-6548d5a1dd84bd83036c6a914b25b4ae.css 1\n"
     ]
    }
   ],
   "source": [
    "print(\"重复网站: \" + str(recount))\n",
    "print(\"总网站: \" + str(allcount))\n",
    "\n",
    "from collections import Counter\n",
    "url_count = Counter(queue)\n",
    "for url, count in url_count.most_common(10):\n",
    "    print (url, count)"
   ]
  },
  {
   "cell_type": "code",
   "execution_count": 2,
   "metadata": {},
   "outputs": [
    {
     "data": {
      "text/plain": [
       "[False, False, False, False, False, False, False, False, False, False]"
      ]
     },
     "execution_count": 2,
     "metadata": {},
     "output_type": "execute_result"
    }
   ],
   "source": [
    "from pybloom_live import BloomFilter\n",
    "f = BloomFilter(capacity=1000, error_rate=0.001)\n",
    "[f.add(x) for x in range(10)]"
   ]
  },
  {
   "cell_type": "code",
   "execution_count": 8,
   "metadata": {},
   "outputs": [
    {
     "name": "stdout",
     "output_type": "stream",
     "text": [
      "1001\n",
      "<class 'IndexError'> BloomFilter is at capacity\n",
      "1001 1001\n",
      "17 1410 23970\n"
     ]
    }
   ],
   "source": [
    "from pybloom_live import BloomFilter\n",
    "bf = BloomFilter(capacity=1000, error_rate=0.00001)\n",
    "try:\n",
    "    for i in range(0, bf.capacity + 1000):\n",
    "        bf.add(i)\n",
    "except Exception as e:\n",
    "    print (i)\n",
    "    print (type(e), e)\n",
    "    \n",
    "print (bf.count, len(bf))\n",
    "print (bf.num_slices, bf.bits_per_slice, bf.num_bits)"
   ]
  },
  {
   "cell_type": "code",
   "execution_count": 9,
   "metadata": {},
   "outputs": [
    {
     "name": "stdout",
     "output_type": "stream",
     "text": [
      "1\n",
      "98999\n",
      "1.0101010101010101e-05\n",
      "True\n"
     ]
    }
   ],
   "source": [
    "true_count = 0\n",
    "false_count = 0\n",
    "start = 1000\n",
    "end = 100000\n",
    "for i in range(start, end):\n",
    "    if i in bf:\n",
    "        true_count += 1\n",
    "    else:\n",
    "        false_count += 1\n",
    "print (true_count)\n",
    "print (false_count)\n",
    "print (float(true_count) / (end - start))\n",
    "print(float(true_count) / (end - start) < 0.001)"
   ]
  },
  {
   "cell_type": "code",
   "execution_count": 16,
   "metadata": {},
   "outputs": [
    {
     "data": {
      "text/plain": [
       "tensor(6.)"
      ]
     },
     "execution_count": 16,
     "metadata": {},
     "output_type": "execute_result"
    }
   ],
   "source": [
    "import torch\n",
    "x = torch.tensor(3.0, requires_grad = True)\n",
    "y = x*x\n",
    "df = torch.autograd.grad(y, x)\n"
   ]
  },
  {
   "cell_type": "code",
   "execution_count": null,
   "metadata": {},
   "outputs": [],
   "source": []
  }
 ],
 "metadata": {
  "kernelspec": {
   "display_name": "Python 3",
   "language": "python",
   "name": "python3"
  },
  "language_info": {
   "codemirror_mode": {
    "name": "ipython",
    "version": 3
   },
   "file_extension": ".py",
   "mimetype": "text/x-python",
   "name": "python",
   "nbconvert_exporter": "python",
   "pygments_lexer": "ipython3",
   "version": "3.7.6"
  }
 },
 "nbformat": 4,
 "nbformat_minor": 4
}
