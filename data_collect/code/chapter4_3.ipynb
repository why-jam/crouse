{
 "cells": [
  {
   "cell_type": "code",
   "execution_count": 1,
   "metadata": {},
   "outputs": [
    {
     "ename": "ModuleNotFoundError",
     "evalue": "No module named 'pymysql'",
     "output_type": "error",
     "traceback": [
      "\u001b[1;31m---------------------------------------------------------------------------\u001b[0m",
      "\u001b[1;31mModuleNotFoundError\u001b[0m                       Traceback (most recent call last)",
      "\u001b[1;32m<ipython-input-1-c395313af4ab>\u001b[0m in \u001b[0;36m<module>\u001b[1;34m\u001b[0m\n\u001b[0;32m      1\u001b[0m \u001b[1;32mimport\u001b[0m \u001b[0mtraceback\u001b[0m\u001b[1;33m\u001b[0m\u001b[1;33m\u001b[0m\u001b[0m\n\u001b[1;32m----> 2\u001b[1;33m \u001b[1;32mimport\u001b[0m \u001b[0mpymysql\u001b[0m\u001b[1;33m\u001b[0m\u001b[1;33m\u001b[0m\u001b[0m\n\u001b[0m\u001b[0;32m      3\u001b[0m \u001b[1;32mimport\u001b[0m \u001b[0mpymysql\u001b[0m\u001b[1;33m.\u001b[0m\u001b[0mcursors\u001b[0m\u001b[1;33m\u001b[0m\u001b[1;33m\u001b[0m\u001b[0m\n\u001b[0;32m      4\u001b[0m \u001b[1;33m\u001b[0m\u001b[0m\n\u001b[0;32m      5\u001b[0m \u001b[1;31m# grant all on *.* to yhz@localhost identified by \"123\"\u001b[0m\u001b[1;33m\u001b[0m\u001b[1;33m\u001b[0m\u001b[1;33m\u001b[0m\u001b[0m\n",
      "\u001b[1;31mModuleNotFoundError\u001b[0m: No module named 'pymysql'"
     ]
    }
   ],
   "source": [
    "import traceback\n",
    "import pymysql\n",
    "import pymysql.cursors\n",
    "\n",
    "# grant all on *.* to yhz@localhost identified by \"123\"\n",
    "\n",
    "def mysql(sql):\n",
    "    db = pymysql.connect(host='localhost', port=3306, user='yhz', passwd='123',charset = 'utf8')\n",
    "    cursor = db.cursor()\n",
    "    try:\n",
    "        print (sql)\n",
    "        result = cursor.execute(sql)\n",
    "        print(result)\n",
    "#        db.commit()\n",
    "        results = cursor.fetchall()\n",
    "    except:\n",
    "        traceback.print_exc()  \n",
    "        db.rollback()\n",
    "    db.close()\n",
    "    return results\n",
    "\n",
    "    \n",
    "#/etc/mysql/my.conf\n",
    "#service mysql restart"
   ]
  },
  {
   "cell_type": "code",
   "execution_count": 106,
   "metadata": {},
   "outputs": [
    {
     "name": "stdout",
     "output_type": "stream",
     "text": [
      "show variables like \"%character%\"\n",
      "8\n",
      "('character_set_client', 'utf8')\n",
      "('character_set_connection', 'utf8')\n",
      "('character_set_database', 'latin1')\n",
      "('character_set_filesystem', 'binary')\n",
      "('character_set_results', 'utf8')\n",
      "('character_set_server', 'latin1')\n",
      "('character_set_system', 'utf8')\n",
      "('character_sets_dir', '/usr/share/mysql/charsets/')\n"
     ]
    }
   ],
   "source": [
    "results = mysql('show variables like \"%character%\"')\n",
    "for result in results:\n",
    "    print(result)"
   ]
  },
  {
   "cell_type": "code",
   "execution_count": 107,
   "metadata": {},
   "outputs": [
    {
     "name": "stdout",
     "output_type": "stream",
     "text": [
      "create database dac2020\n"
     ]
    },
    {
     "name": "stderr",
     "output_type": "stream",
     "text": [
      "Traceback (most recent call last):\n",
      "  File \"<ipython-input-105-ee47cf72e390>\", line 12, in mysql\n",
      "    result = cursor.execute(sql)\n",
      "  File \"/home/yhz/anaconda3/envs/pytorch/lib/python3.7/site-packages/pymysql/cursors.py\", line 170, in execute\n",
      "    result = self._query(query)\n",
      "  File \"/home/yhz/anaconda3/envs/pytorch/lib/python3.7/site-packages/pymysql/cursors.py\", line 328, in _query\n",
      "    conn.query(q)\n",
      "  File \"/home/yhz/anaconda3/envs/pytorch/lib/python3.7/site-packages/pymysql/connections.py\", line 517, in query\n",
      "    self._affected_rows = self._read_query_result(unbuffered=unbuffered)\n",
      "  File \"/home/yhz/anaconda3/envs/pytorch/lib/python3.7/site-packages/pymysql/connections.py\", line 732, in _read_query_result\n",
      "    result.read()\n",
      "  File \"/home/yhz/anaconda3/envs/pytorch/lib/python3.7/site-packages/pymysql/connections.py\", line 1075, in read\n",
      "    first_packet = self.connection._read_packet()\n",
      "  File \"/home/yhz/anaconda3/envs/pytorch/lib/python3.7/site-packages/pymysql/connections.py\", line 684, in _read_packet\n",
      "    packet.check_error()\n",
      "  File \"/home/yhz/anaconda3/envs/pytorch/lib/python3.7/site-packages/pymysql/protocol.py\", line 220, in check_error\n",
      "    err.raise_mysql_exception(self._data)\n",
      "  File \"/home/yhz/anaconda3/envs/pytorch/lib/python3.7/site-packages/pymysql/err.py\", line 109, in raise_mysql_exception\n",
      "    raise errorclass(errno, errval)\n",
      "pymysql.err.ProgrammingError: (1007, \"Can't create database 'dac2020'; database exists\")\n"
     ]
    },
    {
     "ename": "UnboundLocalError",
     "evalue": "local variable 'results' referenced before assignment",
     "output_type": "error",
     "traceback": [
      "\u001b[0;31m---------------------------------------------------------------------------\u001b[0m",
      "\u001b[0;31mUnboundLocalError\u001b[0m                         Traceback (most recent call last)",
      "\u001b[0;32m<ipython-input-107-dd17640d546a>\u001b[0m in \u001b[0;36m<module>\u001b[0;34m\u001b[0m\n\u001b[0;32m----> 1\u001b[0;31m \u001b[0mresults\u001b[0m \u001b[0;34m=\u001b[0m \u001b[0mmysql\u001b[0m\u001b[0;34m(\u001b[0m\u001b[0;34m'create database dac2020'\u001b[0m\u001b[0;34m)\u001b[0m\u001b[0;34m\u001b[0m\u001b[0;34m\u001b[0m\u001b[0m\n\u001b[0m\u001b[1;32m      2\u001b[0m \u001b[0;32mfor\u001b[0m \u001b[0mresult\u001b[0m \u001b[0;32min\u001b[0m \u001b[0mresults\u001b[0m\u001b[0;34m:\u001b[0m\u001b[0;34m\u001b[0m\u001b[0;34m\u001b[0m\u001b[0m\n\u001b[1;32m      3\u001b[0m     \u001b[0mprint\u001b[0m\u001b[0;34m(\u001b[0m\u001b[0mresult\u001b[0m\u001b[0;34m)\u001b[0m\u001b[0;34m\u001b[0m\u001b[0;34m\u001b[0m\u001b[0m\n",
      "\u001b[0;32m<ipython-input-105-ee47cf72e390>\u001b[0m in \u001b[0;36mmysql\u001b[0;34m(sql)\u001b[0m\n\u001b[1;32m     18\u001b[0m         \u001b[0mdb\u001b[0m\u001b[0;34m.\u001b[0m\u001b[0mrollback\u001b[0m\u001b[0;34m(\u001b[0m\u001b[0;34m)\u001b[0m\u001b[0;34m\u001b[0m\u001b[0;34m\u001b[0m\u001b[0m\n\u001b[1;32m     19\u001b[0m     \u001b[0mdb\u001b[0m\u001b[0;34m.\u001b[0m\u001b[0mclose\u001b[0m\u001b[0;34m(\u001b[0m\u001b[0;34m)\u001b[0m\u001b[0;34m\u001b[0m\u001b[0;34m\u001b[0m\u001b[0m\n\u001b[0;32m---> 20\u001b[0;31m     \u001b[0;32mreturn\u001b[0m \u001b[0mresults\u001b[0m\u001b[0;34m\u001b[0m\u001b[0;34m\u001b[0m\u001b[0m\n\u001b[0m\u001b[1;32m     21\u001b[0m \u001b[0;34m\u001b[0m\u001b[0m\n\u001b[1;32m     22\u001b[0m \u001b[0;34m\u001b[0m\u001b[0m\n",
      "\u001b[0;31mUnboundLocalError\u001b[0m: local variable 'results' referenced before assignment"
     ]
    }
   ],
   "source": [
    "results = mysql('create database dac2020')\n",
    "for result in results:\n",
    "    print(result)"
   ]
  },
  {
   "cell_type": "code",
   "execution_count": 112,
   "metadata": {},
   "outputs": [
    {
     "name": "stdout",
     "output_type": "stream",
     "text": [
      "drop database dac2020\n",
      "0\n"
     ]
    }
   ],
   "source": [
    "results = mysql('drop database dac2020')"
   ]
  },
  {
   "cell_type": "code",
   "execution_count": 109,
   "metadata": {},
   "outputs": [
    {
     "name": "stdout",
     "output_type": "stream",
     "text": [
      "create database dac2020;\n",
      "1\n",
      "results =  ()\n"
     ]
    }
   ],
   "source": [
    "results = mysql('create database dac2020;')\n",
    "print(\"results = \", results)\n",
    "for result in results:\n",
    "    print(result) "
   ]
  },
  {
   "cell_type": "code",
   "execution_count": 113,
   "metadata": {},
   "outputs": [
    {
     "name": "stdout",
     "output_type": "stream",
     "text": [
      "show databases;\n",
      "4\n",
      "('information_schema',)\n",
      "('mysql',)\n",
      "('performance_schema',)\n",
      "('sys',)\n"
     ]
    }
   ],
   "source": [
    "results = mysql('show databases;')\n",
    "for result in results:\n",
    "    print(result)"
   ]
  },
  {
   "cell_type": "code",
   "execution_count": 76,
   "metadata": {},
   "outputs": [],
   "source": [
    "import traceback\n",
    "import pymysql as pymysql\n",
    "import pymysql.cursors\n",
    "\n",
    "# grant all on *.* to yhz@localhost identified by \"123\"\n",
    "\n",
    "def mysqls(sqls):\n",
    "    db = pymysql.connect(host='localhost', port=3306, user='yhz', passwd='123', db='dac2020', charset = 'utf8')\n",
    "    cursor = db.cursor()\n",
    "    results = []\n",
    "    try:\n",
    "        print (\"get sqlseries = \", len(sqls))\n",
    "        for sql in sqls:\n",
    "            result = cursor.execute(sql)\n",
    "            print(sql, \" : \", result)\n",
    "            db.commit()\n",
    "            results.append(cursor.fetchall())\n",
    "    except:\n",
    "        traceback.print_exc()  \n",
    "        db.rollback()\n",
    "    db.close()\n",
    "    return results"
   ]
  },
  {
   "cell_type": "code",
   "execution_count": 77,
   "metadata": {},
   "outputs": [
    {
     "name": "stdout",
     "output_type": "stream",
     "text": [
      "get sqlseries =  2\n",
      "create table user(id int, name varchar(20));  :  0\n",
      "show tables;  :  1\n",
      "()\n",
      "(('user',),)\n"
     ]
    }
   ],
   "source": [
    "#results = mysqls(['use dac2020;', 'drop table user;', 'show tables;'])\n",
    "results = mysqls(['create table user(id int, name varchar(20));', 'show tables;'])\n",
    "for result in results:\n",
    "    print(result)"
   ]
  },
  {
   "cell_type": "code",
   "execution_count": 78,
   "metadata": {},
   "outputs": [
    {
     "name": "stdout",
     "output_type": "stream",
     "text": [
      "get sqlseries =  3\n",
      "insert into user values(1, \"Zhong Nanshan\");  :  1\n",
      "insert into user values(2, \"Chen Wei\");  :  1\n",
      "select * from user;  :  2\n",
      "()\n",
      "()\n",
      "((1, 'Zhong Nanshan'), (2, 'Chen Wei'))\n"
     ]
    }
   ],
   "source": [
    "results = mysqls(['insert into user values(1, \"Zhong Nanshan\");', 'insert into user values(2, \"Chen Wei\");','select * from user;'])\n",
    "for result in results:\n",
    "    print(result)"
   ]
  },
  {
   "cell_type": "code",
   "execution_count": 80,
   "metadata": {
    "scrolled": true
   },
   "outputs": [
    {
     "name": "stdout",
     "output_type": "stream",
     "text": [
      "get sqlseries =  1\n",
      "select * from user where `id`=2;  :  1\n",
      "((2, 'Chen Wei'),)\n"
     ]
    }
   ],
   "source": [
    "results = mysqls(['select * from user where `id`=2;'])\n",
    "for result in results:\n",
    "    print(result)"
   ]
  },
  {
   "cell_type": "code",
   "execution_count": 82,
   "metadata": {},
   "outputs": [
    {
     "name": "stdout",
     "output_type": "stream",
     "text": [
      "get sqlseries =  2\n",
      "update user set id = 4 where `name`='Chen Wei';  :  1\n",
      "select * from user;  :  2\n",
      "()\n",
      "((1, 'Zhong Nanshan'), (4, 'Chen Wei'))\n"
     ]
    }
   ],
   "source": [
    "results = mysqls(['update user set id = 4 where `name`=\\'Chen Wei\\';','select * from user;'])\n",
    "for result in results:\n",
    "    print(result)"
   ]
  },
  {
   "cell_type": "code",
   "execution_count": 83,
   "metadata": {},
   "outputs": [
    {
     "name": "stdout",
     "output_type": "stream",
     "text": [
      "get sqlseries =  2\n",
      "delete from user where id = 4;  :  1\n",
      "select * from user;  :  1\n",
      "()\n",
      "((1, 'Zhong Nanshan'),)\n"
     ]
    }
   ],
   "source": [
    "results = mysqls(['delete from user where id = 4;','select * from user;'])\n",
    "for result in results:\n",
    "    print(result)"
   ]
  },
  {
   "cell_type": "code",
   "execution_count": 84,
   "metadata": {
    "scrolled": true
   },
   "outputs": [
    {
     "name": "stdout",
     "output_type": "stream",
     "text": [
      "get sqlseries =  2\n",
      "drop table user;  :  0\n",
      "show tables;  :  0\n",
      "()\n",
      "()\n"
     ]
    }
   ],
   "source": [
    "results = mysqls(['drop table user;', 'show tables;'])\n",
    "for result in results:\n",
    "    print(result)"
   ]
  },
  {
   "cell_type": "code",
   "execution_count": null,
   "metadata": {},
   "outputs": [],
   "source": []
  }
 ],
 "metadata": {
  "kernelspec": {
   "display_name": "Python 3",
   "language": "python",
   "name": "python3"
  },
  "language_info": {
   "codemirror_mode": {
    "name": "ipython",
    "version": 3
   },
   "file_extension": ".py",
   "mimetype": "text/x-python",
   "name": "python",
   "nbconvert_exporter": "python",
   "pygments_lexer": "ipython3",
   "version": "3.7.4"
  }
 },
 "nbformat": 4,
 "nbformat_minor": 4
}
