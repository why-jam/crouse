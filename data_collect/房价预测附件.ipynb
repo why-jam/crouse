{
 "cells": [
  {
   "cell_type": "markdown",
   "metadata": {},
   "source": [
    "# 数据爬取和解析"
   ]
  },
  {
   "cell_type": "code",
   "execution_count": 1,
   "metadata": {
    "scrolled": false
   },
   "outputs": [
    {
     "name": "stdout",
     "output_type": "stream",
     "text": [
      "https://sz.5i5j.com/ershoufang/yuanqu/n1\n",
      "https://sz.5i5j.com/ershoufang/yuanqu/n2\n",
      "https://sz.5i5j.com/ershoufang/yuanqu/n3\n",
      "https://sz.5i5j.com/ershoufang/yuanqu/n4\n",
      "https://sz.5i5j.com/ershoufang/yuanqu/n5\n",
      "https://sz.5i5j.com/ershoufang/yuanqu/n6\n",
      "https://sz.5i5j.com/ershoufang/yuanqu/n7\n",
      "https://sz.5i5j.com/ershoufang/yuanqu/n8\n",
      "https://sz.5i5j.com/ershoufang/yuanqu/n9\n",
      "https://sz.5i5j.com/ershoufang/yuanqu/n10\n",
      "https://sz.5i5j.com/ershoufang/yuanqu/n11\n",
      "https://sz.5i5j.com/ershoufang/yuanqu/n12\n",
      "https://sz.5i5j.com/ershoufang/yuanqu/n13\n",
      "https://sz.5i5j.com/ershoufang/yuanqu/n14\n",
      "https://sz.5i5j.com/ershoufang/yuanqu/n15\n",
      "https://sz.5i5j.com/ershoufang/yuanqu/n16\n",
      "https://sz.5i5j.com/ershoufang/yuanqu/n17\n",
      "https://sz.5i5j.com/ershoufang/yuanqu/n18\n",
      "https://sz.5i5j.com/ershoufang/yuanqu/n19\n",
      "https://sz.5i5j.com/ershoufang/yuanqu/n20\n",
      "https://sz.5i5j.com/ershoufang/yuanqu/n21\n",
      "https://sz.5i5j.com/ershoufang/yuanqu/n22\n",
      "https://sz.5i5j.com/ershoufang/yuanqu/n23\n",
      "https://sz.5i5j.com/ershoufang/yuanqu/n24\n",
      "https://sz.5i5j.com/ershoufang/yuanqu/n25\n",
      "https://sz.5i5j.com/ershoufang/yuanqu/n26\n",
      "https://sz.5i5j.com/ershoufang/yuanqu/n27\n",
      "https://sz.5i5j.com/ershoufang/yuanqu/n28\n",
      "https://sz.5i5j.com/ershoufang/yuanqu/n29\n",
      "https://sz.5i5j.com/ershoufang/yuanqu/n30\n",
      "https://sz.5i5j.com/ershoufang/yuanqu/n31\n",
      "https://sz.5i5j.com/ershoufang/yuanqu/n32\n",
      "https://sz.5i5j.com/ershoufang/yuanqu/n33\n",
      "https://sz.5i5j.com/ershoufang/yuanqu/n34\n",
      "https://sz.5i5j.com/ershoufang/yuanqu/n35\n",
      "https://sz.5i5j.com/ershoufang/yuanqu/n36\n",
      "https://sz.5i5j.com/ershoufang/yuanqu/n37\n",
      "https://sz.5i5j.com/ershoufang/yuanqu/n38\n",
      "https://sz.5i5j.com/ershoufang/yuanqu/n39\n",
      "https://sz.5i5j.com/ershoufang/yuanqu/n40\n",
      "https://sz.5i5j.com/ershoufang/yuanqu/n41\n",
      "https://sz.5i5j.com/ershoufang/yuanqu/n42\n",
      "https://sz.5i5j.com/ershoufang/yuanqu/n43\n",
      "https://sz.5i5j.com/ershoufang/yuanqu/n44\n",
      "https://sz.5i5j.com/ershoufang/yuanqu/n45\n",
      "https://sz.5i5j.com/ershoufang/yuanqu/n46\n",
      "https://sz.5i5j.com/ershoufang/yuanqu/n47\n",
      "https://sz.5i5j.com/ershoufang/yuanqu/n48\n",
      "https://sz.5i5j.com/ershoufang/yuanqu/n49\n",
      "https://sz.5i5j.com/ershoufang/yuanqu/n50\n",
      "https://sz.5i5j.com/ershoufang/yuanqu/n51\n",
      "https://sz.5i5j.com/ershoufang/yuanqu/n52\n",
      "https://sz.5i5j.com/ershoufang/yuanqu/n53\n",
      "https://sz.5i5j.com/ershoufang/yuanqu/n54\n",
      "https://sz.5i5j.com/ershoufang/yuanqu/n55\n",
      "https://sz.5i5j.com/ershoufang/yuanqu/n56\n",
      "https://sz.5i5j.com/ershoufang/yuanqu/n57\n",
      "https://sz.5i5j.com/ershoufang/yuanqu/n58\n",
      "https://sz.5i5j.com/ershoufang/yuanqu/n59\n",
      "https://sz.5i5j.com/ershoufang/yuanqu/n60\n",
      "https://sz.5i5j.com/ershoufang/yuanqu/n61\n",
      "https://sz.5i5j.com/ershoufang/yuanqu/n62\n",
      "https://sz.5i5j.com/ershoufang/yuanqu/n63\n",
      "https://sz.5i5j.com/ershoufang/yuanqu/n64\n",
      "https://sz.5i5j.com/ershoufang/yuanqu/n65\n",
      "https://sz.5i5j.com/ershoufang/yuanqu/n66\n",
      "https://sz.5i5j.com/ershoufang/yuanqu/n67\n",
      "https://sz.5i5j.com/ershoufang/yuanqu/n68\n",
      "https://sz.5i5j.com/ershoufang/yuanqu/n69\n",
      "https://sz.5i5j.com/ershoufang/yuanqu/n70\n",
      "https://sz.5i5j.com/ershoufang/yuanqu/n71\n",
      "https://sz.5i5j.com/ershoufang/yuanqu/n72\n",
      "https://sz.5i5j.com/ershoufang/yuanqu/n73\n",
      "https://sz.5i5j.com/ershoufang/yuanqu/n74\n",
      "https://sz.5i5j.com/ershoufang/yuanqu/n75\n",
      "https://sz.5i5j.com/ershoufang/yuanqu/n76\n",
      "https://sz.5i5j.com/ershoufang/yuanqu/n77\n",
      "https://sz.5i5j.com/ershoufang/yuanqu/n78\n",
      "https://sz.5i5j.com/ershoufang/yuanqu/n79\n",
      "https://sz.5i5j.com/ershoufang/yuanqu/n80\n",
      "https://sz.5i5j.com/ershoufang/yuanqu/n81\n",
      "https://sz.5i5j.com/ershoufang/yuanqu/n82\n",
      "https://sz.5i5j.com/ershoufang/yuanqu/n83\n",
      "https://sz.5i5j.com/ershoufang/yuanqu/n84\n",
      "https://sz.5i5j.com/ershoufang/yuanqu/n85\n",
      "https://sz.5i5j.com/ershoufang/yuanqu/n86\n",
      "https://sz.5i5j.com/ershoufang/yuanqu/n87\n",
      "https://sz.5i5j.com/ershoufang/yuanqu/n88\n",
      "https://sz.5i5j.com/ershoufang/yuanqu/n89\n",
      "https://sz.5i5j.com/ershoufang/yuanqu/n90\n",
      "https://sz.5i5j.com/ershoufang/yuanqu/n91\n",
      "https://sz.5i5j.com/ershoufang/yuanqu/n92\n",
      "https://sz.5i5j.com/ershoufang/yuanqu/n93\n",
      "https://sz.5i5j.com/ershoufang/yuanqu/n94\n",
      "https://sz.5i5j.com/ershoufang/yuanqu/n95\n",
      "https://sz.5i5j.com/ershoufang/yuanqu/n96\n",
      "https://sz.5i5j.com/ershoufang/yuanqu/n97\n",
      "https://sz.5i5j.com/ershoufang/yuanqu/n98\n",
      "https://sz.5i5j.com/ershoufang/yuanqu/n99\n",
      "https://sz.5i5j.com/ershoufang/yuanqu/n100\n"
     ]
    },
    {
     "data": {
      "text/html": [
       "<div>\n",
       "<style scoped>\n",
       "    .dataframe tbody tr th:only-of-type {\n",
       "        vertical-align: middle;\n",
       "    }\n",
       "\n",
       "    .dataframe tbody tr th {\n",
       "        vertical-align: top;\n",
       "    }\n",
       "\n",
       "    .dataframe thead th {\n",
       "        text-align: right;\n",
       "    }\n",
       "</style>\n",
       "<table border=\"1\" class=\"dataframe\">\n",
       "  <thead>\n",
       "    <tr style=\"text-align: right;\">\n",
       "      <th></th>\n",
       "      <th>数据</th>\n",
       "      <th>小区</th>\n",
       "      <th>发布动态</th>\n",
       "      <th>总价</th>\n",
       "      <th>单价</th>\n",
       "    </tr>\n",
       "  </thead>\n",
       "  <tbody>\n",
       "    <tr>\n",
       "      <th>0</th>\n",
       "      <td>3室2厅1卫·88  平米  ·  南北  ·  中楼层/14层  ·  精装  ·  20...</td>\n",
       "      <td>青剑湖                             天著湖韵花园二区</td>\n",
       "      <td>1  人关注 · 近30天带看  7  次  ·  2019-11-21发布</td>\n",
       "      <td>300万</td>\n",
       "      <td>单价34091元/m²</td>\n",
       "    </tr>\n",
       "    <tr>\n",
       "      <th>1</th>\n",
       "      <td>3室2厅1卫·117.58  平米  ·  南  ·  低楼层/4层  ·  简装  ·  ...</td>\n",
       "      <td>东环                             富华苑</td>\n",
       "      <td>3  人关注 · 近30天带看  4  次  ·  2020-04-01发布</td>\n",
       "      <td>326万</td>\n",
       "      <td>单价27726元/m²</td>\n",
       "    </tr>\n",
       "    <tr>\n",
       "      <th>2</th>\n",
       "      <td>3室2厅1卫·88.2  平米  ·  南北  ·  高楼层/18层  ·  精装  ·  ...</td>\n",
       "      <td>青剑湖                             优步花园</td>\n",
       "      <td>3  人关注 · 近30天带看  5  次  ·  2019-11-24发布</td>\n",
       "      <td>295万</td>\n",
       "      <td>单价33447元/m²</td>\n",
       "    </tr>\n",
       "    <tr>\n",
       "      <th>3</th>\n",
       "      <td>3室2厅2卫·125  平米  ·  南北  ·  底层/5层  ·  中装  ·  2004年建</td>\n",
       "      <td>娄葑                             新华苑 · 距离地铁墅浦路北站...</td>\n",
       "      <td>2  人关注 · 近30天带看  1  次  ·  2019-08-13发布</td>\n",
       "      <td>315万</td>\n",
       "      <td>单价25200元/m²</td>\n",
       "    </tr>\n",
       "    <tr>\n",
       "      <th>4</th>\n",
       "      <td>4室2厅2卫·112.54  平米  ·  南北  ·  中楼层/8层  ·  简装  · ...</td>\n",
       "      <td>青剑湖                             优步花园</td>\n",
       "      <td>0  人关注 · 近30天带看  2  次  ·  2019-11-28发布</td>\n",
       "      <td>420万</td>\n",
       "      <td>单价37320元/m²</td>\n",
       "    </tr>\n",
       "    <tr>\n",
       "      <th>5</th>\n",
       "      <td>3室2厅2卫·137.2  平米  ·  南北  ·  高楼层/30层  ·  简装  · ...</td>\n",
       "      <td>东环                             冠南苑</td>\n",
       "      <td>1  人关注 · 近30天带看  4  次  ·  2019-08-07发布</td>\n",
       "      <td>340万</td>\n",
       "      <td>单价24781元/m²</td>\n",
       "    </tr>\n",
       "    <tr>\n",
       "      <th>6</th>\n",
       "      <td>3室1厅1卫·87.05  平米  ·  南北  ·  高楼层/6层  ·  精装  ·  ...</td>\n",
       "      <td>东环                             东港二村 · 距离地铁东环路5...</td>\n",
       "      <td>1  人关注 · 近30天带看  1  次  ·  2020-04-28发布</td>\n",
       "      <td>320万</td>\n",
       "      <td>单价36760元/m²</td>\n",
       "    </tr>\n",
       "    <tr>\n",
       "      <th>7</th>\n",
       "      <td>1室2厅1卫·62.04  平米  ·  南北  ·  中楼层/18层  ·  精装  · ...</td>\n",
       "      <td>东环                             优山美地 · 距离地铁墅浦路北...</td>\n",
       "      <td>2  人关注 · 近30天带看  1  次  ·  2020-06-12发布</td>\n",
       "      <td>190万</td>\n",
       "      <td>单价30625元/m²</td>\n",
       "    </tr>\n",
       "    <tr>\n",
       "      <th>8</th>\n",
       "      <td>3室2厅2卫·136.95  平米  ·  南北  ·  低楼层/26层  ·  精装  ·...</td>\n",
       "      <td>湖东邻里                             澜山澜二期</td>\n",
       "      <td>1  人关注 · 近30天带看  0  次  ·  2019-05-06发布</td>\n",
       "      <td>629万</td>\n",
       "      <td>单价45929元/m²</td>\n",
       "    </tr>\n",
       "    <tr>\n",
       "      <th>9</th>\n",
       "      <td>2室2厅1卫·82.89  平米  ·  南北  ·  低楼层/6层  ·  简装  ·  ...</td>\n",
       "      <td>东环                             杨枝新村</td>\n",
       "      <td>1  人关注 · 近30天带看  3  次  ·  2017-10-13发布</td>\n",
       "      <td>207万</td>\n",
       "      <td>单价24973元/m²</td>\n",
       "    </tr>\n",
       "  </tbody>\n",
       "</table>\n",
       "</div>"
      ],
      "text/plain": [
       "                                                  数据  \\\n",
       "0  3室2厅1卫·88  平米  ·  南北  ·  中楼层/14层  ·  精装  ·  20...   \n",
       "1  3室2厅1卫·117.58  平米  ·  南  ·  低楼层/4层  ·  简装  ·  ...   \n",
       "2  3室2厅1卫·88.2  平米  ·  南北  ·  高楼层/18层  ·  精装  ·  ...   \n",
       "3  3室2厅2卫·125  平米  ·  南北  ·  底层/5层  ·  中装  ·  2004年建   \n",
       "4  4室2厅2卫·112.54  平米  ·  南北  ·  中楼层/8层  ·  简装  · ...   \n",
       "5  3室2厅2卫·137.2  平米  ·  南北  ·  高楼层/30层  ·  简装  · ...   \n",
       "6  3室1厅1卫·87.05  平米  ·  南北  ·  高楼层/6层  ·  精装  ·  ...   \n",
       "7  1室2厅1卫·62.04  平米  ·  南北  ·  中楼层/18层  ·  精装  · ...   \n",
       "8  3室2厅2卫·136.95  平米  ·  南北  ·  低楼层/26层  ·  精装  ·...   \n",
       "9  2室2厅1卫·82.89  平米  ·  南北  ·  低楼层/6层  ·  简装  ·  ...   \n",
       "\n",
       "                                                  小区  \\\n",
       "0          青剑湖                             天著湖韵花园二区    \n",
       "1                东环                             富华苑    \n",
       "2              青剑湖                             优步花园    \n",
       "3  娄葑                             新华苑 · 距离地铁墅浦路北站...   \n",
       "4              青剑湖                             优步花园    \n",
       "5                东环                             冠南苑    \n",
       "6  东环                             东港二村 · 距离地铁东环路5...   \n",
       "7  东环                             优山美地 · 距离地铁墅浦路北...   \n",
       "8            湖东邻里                             澜山澜二期    \n",
       "9               东环                             杨枝新村    \n",
       "\n",
       "                                     发布动态    总价           单价  \n",
       "0  1  人关注 · 近30天带看  7  次  ·  2019-11-21发布  300万  单价34091元/m²  \n",
       "1  3  人关注 · 近30天带看  4  次  ·  2020-04-01发布  326万  单价27726元/m²  \n",
       "2  3  人关注 · 近30天带看  5  次  ·  2019-11-24发布  295万  单价33447元/m²  \n",
       "3  2  人关注 · 近30天带看  1  次  ·  2019-08-13发布  315万  单价25200元/m²  \n",
       "4  0  人关注 · 近30天带看  2  次  ·  2019-11-28发布  420万  单价37320元/m²  \n",
       "5  1  人关注 · 近30天带看  4  次  ·  2019-08-07发布  340万  单价24781元/m²  \n",
       "6  1  人关注 · 近30天带看  1  次  ·  2020-04-28发布  320万  单价36760元/m²  \n",
       "7  2  人关注 · 近30天带看  1  次  ·  2020-06-12发布  190万  单价30625元/m²  \n",
       "8  1  人关注 · 近30天带看  0  次  ·  2019-05-06发布  629万  单价45929元/m²  \n",
       "9  1  人关注 · 近30天带看  3  次  ·  2017-10-13发布  207万  单价24973元/m²  "
      ]
     },
     "execution_count": 1,
     "metadata": {},
     "output_type": "execute_result"
    }
   ],
   "source": [
    "# 导入所需要的模块\n",
    "import requests\n",
    "import time            # 防止访问频繁被封ip\n",
    "from bs4 import BeautifulSoup\n",
    "import pandas as pd\n",
    "\n",
    "headers = {\n",
    "    'User-Agent': 'Mozilla/8.0 (Windows NT 10.0; Win64; x64) AppleWebKit/537.36 (KHTML, like Gecko) Chrome/83.0.154.102 Safari/537.36'\n",
    "}                                     # 模拟浏览器，有反爬虫\n",
    "\n",
    "domain = 'https://sz.5i5j.com'        # 苏州地区的我爱我家url\n",
    "type_ ='ershoufang'                   # 调查二手房数据\n",
    "city = 'yuanqu'                       # 位置选择苏州园区的房子\n",
    "\n",
    "apartments=[]                         # 定义一个存放数据的列表\n",
    "\n",
    "# 构造爬取一页数据的函数\n",
    "def pagefun(i):\n",
    "    page_url = domain +'/'+type_+'/'+city+'/'+'n'+str(i)       # 构造当前页的url地址\n",
    "    \n",
    "    try:\n",
    "        r = requests.get(page_url,headers=headers,timeout=10)\n",
    "        print(page_url)\n",
    "    except Exception as e:\n",
    "        print('----------------->',e)\n",
    "\n",
    "    soup=BeautifulSoup(r.text,\"lxml\")\n",
    "    apartments=[]\n",
    "    lists = soup.find_all(class_='listX')                  # 数据存在class为listX的节点下面\n",
    "    \n",
    "    for i in range(len(lists)):\n",
    "        datas = lists[i].find_all(name='p')\n",
    "        apartment=[]\n",
    "        for data in datas:\n",
    "            x = data.text\n",
    "            apartment.append(x)\n",
    "        apartments.append(apartment)\n",
    "        \n",
    "    return apartments\n",
    "\n",
    "# 爬取100页的数据\n",
    "for i in range(1,101):\n",
    "    apartments += pagefun(i)\n",
    "    time.sleep(1)\n",
    "\n",
    "df=pd.DataFrame(apartments,columns=['数据','小区','发布动态','总价','单价'])\n",
    "df.head(10)"
   ]
  },
  {
   "cell_type": "code",
   "execution_count": 2,
   "metadata": {},
   "outputs": [
    {
     "name": "stdout",
     "output_type": "stream",
     "text": [
      "<class 'pandas.core.frame.DataFrame'>\n",
      "RangeIndex: 3000 entries, 0 to 2999\n",
      "Data columns (total 5 columns):\n",
      " #   Column  Non-Null Count  Dtype \n",
      "---  ------  --------------  ----- \n",
      " 0   数据      3000 non-null   object\n",
      " 1   小区      3000 non-null   object\n",
      " 2   发布动态    3000 non-null   object\n",
      " 3   总价      3000 non-null   object\n",
      " 4   单价      3000 non-null   object\n",
      "dtypes: object(5)\n",
      "memory usage: 117.3+ KB\n"
     ]
    }
   ],
   "source": [
    "df.info()"
   ]
  },
  {
   "cell_type": "code",
   "execution_count": 3,
   "metadata": {},
   "outputs": [],
   "source": [
    "df.to_excel(\"爬取的数据.xlsx\")"
   ]
  },
  {
   "cell_type": "markdown",
   "metadata": {},
   "source": [
    "# 数据处理"
   ]
  },
  {
   "cell_type": "markdown",
   "metadata": {},
   "source": [
    "## 1.将数据描述分解 "
   ]
  },
  {
   "cell_type": "code",
   "execution_count": 4,
   "metadata": {
    "scrolled": false
   },
   "outputs": [
    {
     "data": {
      "text/html": [
       "<div>\n",
       "<style scoped>\n",
       "    .dataframe tbody tr th:only-of-type {\n",
       "        vertical-align: middle;\n",
       "    }\n",
       "\n",
       "    .dataframe tbody tr th {\n",
       "        vertical-align: top;\n",
       "    }\n",
       "\n",
       "    .dataframe thead th {\n",
       "        text-align: right;\n",
       "    }\n",
       "</style>\n",
       "<table border=\"1\" class=\"dataframe\">\n",
       "  <thead>\n",
       "    <tr style=\"text-align: right;\">\n",
       "      <th></th>\n",
       "      <th>数据</th>\n",
       "      <th>小区</th>\n",
       "      <th>发布动态</th>\n",
       "      <th>总价</th>\n",
       "      <th>单价</th>\n",
       "      <th>户型</th>\n",
       "      <th>建筑面积</th>\n",
       "      <th>朝向</th>\n",
       "      <th>楼层</th>\n",
       "      <th>装修</th>\n",
       "      <th>建造时间</th>\n",
       "    </tr>\n",
       "  </thead>\n",
       "  <tbody>\n",
       "    <tr>\n",
       "      <th>0</th>\n",
       "      <td>3室2厅1卫·88  平米  ·  南北  ·  中楼层/14层  ·  精装  ·  20...</td>\n",
       "      <td>青剑湖                             天著湖韵花园二区</td>\n",
       "      <td>1  人关注 · 近30天带看  7  次  ·  2019-11-21发布</td>\n",
       "      <td>300万</td>\n",
       "      <td>单价34091元/m²</td>\n",
       "      <td>3室2厅1卫</td>\n",
       "      <td>88  平米</td>\n",
       "      <td>南北</td>\n",
       "      <td>中楼层/14层</td>\n",
       "      <td>精装</td>\n",
       "      <td>2016年建</td>\n",
       "    </tr>\n",
       "    <tr>\n",
       "      <th>1</th>\n",
       "      <td>3室2厅1卫·117.58  平米  ·  南  ·  低楼层/4层  ·  简装  ·  ...</td>\n",
       "      <td>东环                             富华苑</td>\n",
       "      <td>3  人关注 · 近30天带看  4  次  ·  2020-04-01发布</td>\n",
       "      <td>326万</td>\n",
       "      <td>单价27726元/m²</td>\n",
       "      <td>3室2厅1卫</td>\n",
       "      <td>117.58  平米</td>\n",
       "      <td>南</td>\n",
       "      <td>低楼层/4层</td>\n",
       "      <td>简装</td>\n",
       "      <td>2002年建</td>\n",
       "    </tr>\n",
       "    <tr>\n",
       "      <th>2</th>\n",
       "      <td>3室2厅1卫·88.2  平米  ·  南北  ·  高楼层/18层  ·  精装  ·  ...</td>\n",
       "      <td>青剑湖                             优步花园</td>\n",
       "      <td>3  人关注 · 近30天带看  5  次  ·  2019-11-24发布</td>\n",
       "      <td>295万</td>\n",
       "      <td>单价33447元/m²</td>\n",
       "      <td>3室2厅1卫</td>\n",
       "      <td>88.2  平米</td>\n",
       "      <td>南北</td>\n",
       "      <td>高楼层/18层</td>\n",
       "      <td>精装</td>\n",
       "      <td>2015年建</td>\n",
       "    </tr>\n",
       "    <tr>\n",
       "      <th>3</th>\n",
       "      <td>3室2厅2卫·125  平米  ·  南北  ·  底层/5层  ·  中装  ·  2004年建</td>\n",
       "      <td>娄葑                             新华苑 · 距离地铁墅浦路北站...</td>\n",
       "      <td>2  人关注 · 近30天带看  1  次  ·  2019-08-13发布</td>\n",
       "      <td>315万</td>\n",
       "      <td>单价25200元/m²</td>\n",
       "      <td>3室2厅2卫</td>\n",
       "      <td>125  平米</td>\n",
       "      <td>南北</td>\n",
       "      <td>底层/5层</td>\n",
       "      <td>中装</td>\n",
       "      <td>2004年建</td>\n",
       "    </tr>\n",
       "    <tr>\n",
       "      <th>4</th>\n",
       "      <td>4室2厅2卫·112.54  平米  ·  南北  ·  中楼层/8层  ·  简装  · ...</td>\n",
       "      <td>青剑湖                             优步花园</td>\n",
       "      <td>0  人关注 · 近30天带看  2  次  ·  2019-11-28发布</td>\n",
       "      <td>420万</td>\n",
       "      <td>单价37320元/m²</td>\n",
       "      <td>4室2厅2卫</td>\n",
       "      <td>112.54  平米</td>\n",
       "      <td>南北</td>\n",
       "      <td>中楼层/8层</td>\n",
       "      <td>简装</td>\n",
       "      <td>2015年建</td>\n",
       "    </tr>\n",
       "  </tbody>\n",
       "</table>\n",
       "</div>"
      ],
      "text/plain": [
       "                                                  数据  \\\n",
       "0  3室2厅1卫·88  平米  ·  南北  ·  中楼层/14层  ·  精装  ·  20...   \n",
       "1  3室2厅1卫·117.58  平米  ·  南  ·  低楼层/4层  ·  简装  ·  ...   \n",
       "2  3室2厅1卫·88.2  平米  ·  南北  ·  高楼层/18层  ·  精装  ·  ...   \n",
       "3  3室2厅2卫·125  平米  ·  南北  ·  底层/5层  ·  中装  ·  2004年建   \n",
       "4  4室2厅2卫·112.54  平米  ·  南北  ·  中楼层/8层  ·  简装  · ...   \n",
       "\n",
       "                                                  小区  \\\n",
       "0          青剑湖                             天著湖韵花园二区    \n",
       "1                东环                             富华苑    \n",
       "2              青剑湖                             优步花园    \n",
       "3  娄葑                             新华苑 · 距离地铁墅浦路北站...   \n",
       "4              青剑湖                             优步花园    \n",
       "\n",
       "                                     发布动态    总价           单价      户型  \\\n",
       "0  1  人关注 · 近30天带看  7  次  ·  2019-11-21发布  300万  单价34091元/m²  3室2厅1卫   \n",
       "1  3  人关注 · 近30天带看  4  次  ·  2020-04-01发布  326万  单价27726元/m²  3室2厅1卫   \n",
       "2  3  人关注 · 近30天带看  5  次  ·  2019-11-24发布  295万  单价33447元/m²  3室2厅1卫   \n",
       "3  2  人关注 · 近30天带看  1  次  ·  2019-08-13发布  315万  单价25200元/m²  3室2厅2卫   \n",
       "4  0  人关注 · 近30天带看  2  次  ·  2019-11-28发布  420万  单价37320元/m²  4室2厅2卫   \n",
       "\n",
       "         建筑面积  朝向       楼层  装修    建造时间  \n",
       "0      88  平米  南北  中楼层/14层  精装  2016年建  \n",
       "1  117.58  平米   南   低楼层/4层  简装  2002年建  \n",
       "2    88.2  平米  南北  高楼层/18层  精装  2015年建  \n",
       "3     125  平米  南北    底层/5层  中装  2004年建  \n",
       "4  112.54  平米  南北   中楼层/8层  简装  2015年建  "
      ]
     },
     "execution_count": 4,
     "metadata": {},
     "output_type": "execute_result"
    }
   ],
   "source": [
    "#户型，面积，朝向，楼层，装修\n",
    "df['户型'] = None\n",
    "df['建筑面积'] = None\n",
    "df['朝向'] = None\n",
    "df['楼层'] = None\n",
    "df['装修'] = None\n",
    "df['建造时间'] = None\n",
    "for i in range(df.shape[0]):\n",
    "    descs = df.loc[i,'数据'].split('·')  #将数据描述拆开\n",
    "    for desc in descs:\n",
    "        if(\"室\" in desc or \"厅\" in desc or \"卫\" in desc):\n",
    "            df.loc[i,'户型'] = desc.strip()\n",
    "        if(\"平米\" in desc):\n",
    "            df.loc[i,'建筑面积'] = desc.strip()\n",
    "        if(\"东\" in desc or \"南\" in desc or \"西\" in desc or \"北\" in desc):\n",
    "            df.loc[i,'朝向'] = desc.strip()\n",
    "        if(\"层\" in desc):\n",
    "            df.loc[i,'楼层'] = desc.strip()\n",
    "        if(\"精装\" in desc or \"中装\" in desc or \"简装\" in desc or \"毛坯\" in desc):\n",
    "            df.loc[i,'装修'] = desc.strip()\n",
    "        if(\"年\" in desc):\n",
    "            df.loc[i,'建造时间'] = desc.strip()\n",
    "df.head(5)"
   ]
  },
  {
   "cell_type": "code",
   "execution_count": 5,
   "metadata": {},
   "outputs": [],
   "source": [
    "df.drop(columns=[\"数据\",\"发布动态\"],inplace=True)      # 删除已经无用的属性列"
   ]
  },
  {
   "cell_type": "code",
   "execution_count": 6,
   "metadata": {},
   "outputs": [
    {
     "data": {
      "text/html": [
       "<div>\n",
       "<style scoped>\n",
       "    .dataframe tbody tr th:only-of-type {\n",
       "        vertical-align: middle;\n",
       "    }\n",
       "\n",
       "    .dataframe tbody tr th {\n",
       "        vertical-align: top;\n",
       "    }\n",
       "\n",
       "    .dataframe thead th {\n",
       "        text-align: right;\n",
       "    }\n",
       "</style>\n",
       "<table border=\"1\" class=\"dataframe\">\n",
       "  <thead>\n",
       "    <tr style=\"text-align: right;\">\n",
       "      <th></th>\n",
       "      <th>小区</th>\n",
       "      <th>总价</th>\n",
       "      <th>单价</th>\n",
       "      <th>户型</th>\n",
       "      <th>建筑面积</th>\n",
       "      <th>朝向</th>\n",
       "      <th>楼层</th>\n",
       "      <th>装修</th>\n",
       "      <th>建造时间</th>\n",
       "    </tr>\n",
       "  </thead>\n",
       "  <tbody>\n",
       "    <tr>\n",
       "      <th>0</th>\n",
       "      <td>青剑湖                             天著湖韵花园二区</td>\n",
       "      <td>300万</td>\n",
       "      <td>单价34091元/m²</td>\n",
       "      <td>3室2厅1卫</td>\n",
       "      <td>88  平米</td>\n",
       "      <td>南北</td>\n",
       "      <td>中楼层/14层</td>\n",
       "      <td>精装</td>\n",
       "      <td>2016年建</td>\n",
       "    </tr>\n",
       "    <tr>\n",
       "      <th>1</th>\n",
       "      <td>东环                             富华苑</td>\n",
       "      <td>326万</td>\n",
       "      <td>单价27726元/m²</td>\n",
       "      <td>3室2厅1卫</td>\n",
       "      <td>117.58  平米</td>\n",
       "      <td>南</td>\n",
       "      <td>低楼层/4层</td>\n",
       "      <td>简装</td>\n",
       "      <td>2002年建</td>\n",
       "    </tr>\n",
       "    <tr>\n",
       "      <th>2</th>\n",
       "      <td>青剑湖                             优步花园</td>\n",
       "      <td>295万</td>\n",
       "      <td>单价33447元/m²</td>\n",
       "      <td>3室2厅1卫</td>\n",
       "      <td>88.2  平米</td>\n",
       "      <td>南北</td>\n",
       "      <td>高楼层/18层</td>\n",
       "      <td>精装</td>\n",
       "      <td>2015年建</td>\n",
       "    </tr>\n",
       "    <tr>\n",
       "      <th>3</th>\n",
       "      <td>娄葑                             新华苑 · 距离地铁墅浦路北站...</td>\n",
       "      <td>315万</td>\n",
       "      <td>单价25200元/m²</td>\n",
       "      <td>3室2厅2卫</td>\n",
       "      <td>125  平米</td>\n",
       "      <td>南北</td>\n",
       "      <td>底层/5层</td>\n",
       "      <td>中装</td>\n",
       "      <td>2004年建</td>\n",
       "    </tr>\n",
       "    <tr>\n",
       "      <th>4</th>\n",
       "      <td>青剑湖                             优步花园</td>\n",
       "      <td>420万</td>\n",
       "      <td>单价37320元/m²</td>\n",
       "      <td>4室2厅2卫</td>\n",
       "      <td>112.54  平米</td>\n",
       "      <td>南北</td>\n",
       "      <td>中楼层/8层</td>\n",
       "      <td>简装</td>\n",
       "      <td>2015年建</td>\n",
       "    </tr>\n",
       "  </tbody>\n",
       "</table>\n",
       "</div>"
      ],
      "text/plain": [
       "                                                  小区    总价           单价  \\\n",
       "0          青剑湖                             天著湖韵花园二区   300万  单价34091元/m²   \n",
       "1                东环                             富华苑   326万  单价27726元/m²   \n",
       "2              青剑湖                             优步花园   295万  单价33447元/m²   \n",
       "3  娄葑                             新华苑 · 距离地铁墅浦路北站...  315万  单价25200元/m²   \n",
       "4              青剑湖                             优步花园   420万  单价37320元/m²   \n",
       "\n",
       "       户型        建筑面积  朝向       楼层  装修    建造时间  \n",
       "0  3室2厅1卫      88  平米  南北  中楼层/14层  精装  2016年建  \n",
       "1  3室2厅1卫  117.58  平米   南   低楼层/4层  简装  2002年建  \n",
       "2  3室2厅1卫    88.2  平米  南北  高楼层/18层  精装  2015年建  \n",
       "3  3室2厅2卫     125  平米  南北    底层/5层  中装  2004年建  \n",
       "4  4室2厅2卫  112.54  平米  南北   中楼层/8层  简装  2015年建  "
      ]
     },
     "execution_count": 6,
     "metadata": {},
     "output_type": "execute_result"
    }
   ],
   "source": [
    "df.head(5)"
   ]
  },
  {
   "cell_type": "code",
   "execution_count": 7,
   "metadata": {},
   "outputs": [
    {
     "name": "stdout",
     "output_type": "stream",
     "text": [
      "<class 'pandas.core.frame.DataFrame'>\n",
      "RangeIndex: 3000 entries, 0 to 2999\n",
      "Data columns (total 9 columns):\n",
      " #   Column  Non-Null Count  Dtype \n",
      "---  ------  --------------  ----- \n",
      " 0   小区      3000 non-null   object\n",
      " 1   总价      3000 non-null   object\n",
      " 2   单价      3000 non-null   object\n",
      " 3   户型      3000 non-null   object\n",
      " 4   建筑面积    3000 non-null   object\n",
      " 5   朝向      2992 non-null   object\n",
      " 6   楼层      3000 non-null   object\n",
      " 7   装修      2874 non-null   object\n",
      " 8   建造时间    1122 non-null   object\n",
      "dtypes: object(9)\n",
      "memory usage: 211.1+ KB\n"
     ]
    }
   ],
   "source": [
    "df.info()"
   ]
  },
  {
   "cell_type": "markdown",
   "metadata": {},
   "source": [
    "建造时间缺失太严重，后续操作不考虑  \n",
    "小区对预测无影响，也删除"
   ]
  },
  {
   "cell_type": "code",
   "execution_count": 8,
   "metadata": {},
   "outputs": [],
   "source": [
    "del df[\"建造时间\"]\n",
    "del df[\"小区\"]"
   ]
  },
  {
   "cell_type": "markdown",
   "metadata": {},
   "source": [
    "## 2. 将户型数据继续拆分"
   ]
  },
  {
   "cell_type": "code",
   "execution_count": 9,
   "metadata": {},
   "outputs": [],
   "source": [
    "df[[\"室\",\"厅\",\"卫\"]] = df[\"户型\"].str.extract(\"(.+)室(.+)厅(.+)卫\") # 利用正则表达式提取数据"
   ]
  },
  {
   "cell_type": "code",
   "execution_count": 10,
   "metadata": {},
   "outputs": [
    {
     "data": {
      "text/html": [
       "<div>\n",
       "<style scoped>\n",
       "    .dataframe tbody tr th:only-of-type {\n",
       "        vertical-align: middle;\n",
       "    }\n",
       "\n",
       "    .dataframe tbody tr th {\n",
       "        vertical-align: top;\n",
       "    }\n",
       "\n",
       "    .dataframe thead th {\n",
       "        text-align: right;\n",
       "    }\n",
       "</style>\n",
       "<table border=\"1\" class=\"dataframe\">\n",
       "  <thead>\n",
       "    <tr style=\"text-align: right;\">\n",
       "      <th></th>\n",
       "      <th>总价</th>\n",
       "      <th>单价</th>\n",
       "      <th>户型</th>\n",
       "      <th>建筑面积</th>\n",
       "      <th>朝向</th>\n",
       "      <th>楼层</th>\n",
       "      <th>装修</th>\n",
       "      <th>室</th>\n",
       "      <th>厅</th>\n",
       "      <th>卫</th>\n",
       "    </tr>\n",
       "  </thead>\n",
       "  <tbody>\n",
       "    <tr>\n",
       "      <th>0</th>\n",
       "      <td>300万</td>\n",
       "      <td>单价34091元/m²</td>\n",
       "      <td>3室2厅1卫</td>\n",
       "      <td>88  平米</td>\n",
       "      <td>南北</td>\n",
       "      <td>中楼层/14层</td>\n",
       "      <td>精装</td>\n",
       "      <td>3</td>\n",
       "      <td>2</td>\n",
       "      <td>1</td>\n",
       "    </tr>\n",
       "    <tr>\n",
       "      <th>1</th>\n",
       "      <td>326万</td>\n",
       "      <td>单价27726元/m²</td>\n",
       "      <td>3室2厅1卫</td>\n",
       "      <td>117.58  平米</td>\n",
       "      <td>南</td>\n",
       "      <td>低楼层/4层</td>\n",
       "      <td>简装</td>\n",
       "      <td>3</td>\n",
       "      <td>2</td>\n",
       "      <td>1</td>\n",
       "    </tr>\n",
       "    <tr>\n",
       "      <th>2</th>\n",
       "      <td>295万</td>\n",
       "      <td>单价33447元/m²</td>\n",
       "      <td>3室2厅1卫</td>\n",
       "      <td>88.2  平米</td>\n",
       "      <td>南北</td>\n",
       "      <td>高楼层/18层</td>\n",
       "      <td>精装</td>\n",
       "      <td>3</td>\n",
       "      <td>2</td>\n",
       "      <td>1</td>\n",
       "    </tr>\n",
       "    <tr>\n",
       "      <th>3</th>\n",
       "      <td>315万</td>\n",
       "      <td>单价25200元/m²</td>\n",
       "      <td>3室2厅2卫</td>\n",
       "      <td>125  平米</td>\n",
       "      <td>南北</td>\n",
       "      <td>底层/5层</td>\n",
       "      <td>中装</td>\n",
       "      <td>3</td>\n",
       "      <td>2</td>\n",
       "      <td>2</td>\n",
       "    </tr>\n",
       "    <tr>\n",
       "      <th>4</th>\n",
       "      <td>420万</td>\n",
       "      <td>单价37320元/m²</td>\n",
       "      <td>4室2厅2卫</td>\n",
       "      <td>112.54  平米</td>\n",
       "      <td>南北</td>\n",
       "      <td>中楼层/8层</td>\n",
       "      <td>简装</td>\n",
       "      <td>4</td>\n",
       "      <td>2</td>\n",
       "      <td>2</td>\n",
       "    </tr>\n",
       "    <tr>\n",
       "      <th>5</th>\n",
       "      <td>340万</td>\n",
       "      <td>单价24781元/m²</td>\n",
       "      <td>3室2厅2卫</td>\n",
       "      <td>137.2  平米</td>\n",
       "      <td>南北</td>\n",
       "      <td>高楼层/30层</td>\n",
       "      <td>简装</td>\n",
       "      <td>3</td>\n",
       "      <td>2</td>\n",
       "      <td>2</td>\n",
       "    </tr>\n",
       "    <tr>\n",
       "      <th>6</th>\n",
       "      <td>320万</td>\n",
       "      <td>单价36760元/m²</td>\n",
       "      <td>3室1厅1卫</td>\n",
       "      <td>87.05  平米</td>\n",
       "      <td>南北</td>\n",
       "      <td>高楼层/6层</td>\n",
       "      <td>精装</td>\n",
       "      <td>3</td>\n",
       "      <td>1</td>\n",
       "      <td>1</td>\n",
       "    </tr>\n",
       "    <tr>\n",
       "      <th>7</th>\n",
       "      <td>190万</td>\n",
       "      <td>单价30625元/m²</td>\n",
       "      <td>1室2厅1卫</td>\n",
       "      <td>62.04  平米</td>\n",
       "      <td>南北</td>\n",
       "      <td>中楼层/18层</td>\n",
       "      <td>精装</td>\n",
       "      <td>1</td>\n",
       "      <td>2</td>\n",
       "      <td>1</td>\n",
       "    </tr>\n",
       "    <tr>\n",
       "      <th>8</th>\n",
       "      <td>629万</td>\n",
       "      <td>单价45929元/m²</td>\n",
       "      <td>3室2厅2卫</td>\n",
       "      <td>136.95  平米</td>\n",
       "      <td>南北</td>\n",
       "      <td>低楼层/26层</td>\n",
       "      <td>精装</td>\n",
       "      <td>3</td>\n",
       "      <td>2</td>\n",
       "      <td>2</td>\n",
       "    </tr>\n",
       "    <tr>\n",
       "      <th>9</th>\n",
       "      <td>207万</td>\n",
       "      <td>单价24973元/m²</td>\n",
       "      <td>2室2厅1卫</td>\n",
       "      <td>82.89  平米</td>\n",
       "      <td>南北</td>\n",
       "      <td>低楼层/6层</td>\n",
       "      <td>简装</td>\n",
       "      <td>2</td>\n",
       "      <td>2</td>\n",
       "      <td>1</td>\n",
       "    </tr>\n",
       "  </tbody>\n",
       "</table>\n",
       "</div>"
      ],
      "text/plain": [
       "     总价           单价      户型        建筑面积  朝向       楼层  装修  室  厅  卫\n",
       "0  300万  单价34091元/m²  3室2厅1卫      88  平米  南北  中楼层/14层  精装  3  2  1\n",
       "1  326万  单价27726元/m²  3室2厅1卫  117.58  平米   南   低楼层/4层  简装  3  2  1\n",
       "2  295万  单价33447元/m²  3室2厅1卫    88.2  平米  南北  高楼层/18层  精装  3  2  1\n",
       "3  315万  单价25200元/m²  3室2厅2卫     125  平米  南北    底层/5层  中装  3  2  2\n",
       "4  420万  单价37320元/m²  4室2厅2卫  112.54  平米  南北   中楼层/8层  简装  4  2  2\n",
       "5  340万  单价24781元/m²  3室2厅2卫   137.2  平米  南北  高楼层/30层  简装  3  2  2\n",
       "6  320万  单价36760元/m²  3室1厅1卫   87.05  平米  南北   高楼层/6层  精装  3  1  1\n",
       "7  190万  单价30625元/m²  1室2厅1卫   62.04  平米  南北  中楼层/18层  精装  1  2  1\n",
       "8  629万  单价45929元/m²  3室2厅2卫  136.95  平米  南北  低楼层/26层  精装  3  2  2\n",
       "9  207万  单价24973元/m²  2室2厅1卫   82.89  平米  南北   低楼层/6层  简装  2  2  1"
      ]
     },
     "execution_count": 10,
     "metadata": {},
     "output_type": "execute_result"
    }
   ],
   "source": [
    "df.head(10)"
   ]
  },
  {
   "cell_type": "code",
   "execution_count": 11,
   "metadata": {},
   "outputs": [],
   "source": [
    "del df[\"户型\"]"
   ]
  },
  {
   "cell_type": "markdown",
   "metadata": {},
   "source": [
    "### 替换前"
   ]
  },
  {
   "cell_type": "code",
   "execution_count": 12,
   "metadata": {},
   "outputs": [
    {
     "data": {
      "text/plain": [
       "3    1322\n",
       "2    1245\n",
       "4     244\n",
       "1     155\n",
       "5      28\n",
       "6       6\n",
       "Name: 室, dtype: int64"
      ]
     },
     "execution_count": 12,
     "metadata": {},
     "output_type": "execute_result"
    }
   ],
   "source": [
    "df[\"室\"].value_counts()"
   ]
  },
  {
   "cell_type": "code",
   "execution_count": 13,
   "metadata": {},
   "outputs": [
    {
     "data": {
      "text/plain": [
       "2    2437\n",
       "1     556\n",
       "3       5\n",
       "多       2\n",
       "Name: 厅, dtype: int64"
      ]
     },
     "execution_count": 13,
     "metadata": {},
     "output_type": "execute_result"
    }
   ],
   "source": [
    "df[\"厅\"].value_counts()"
   ]
  },
  {
   "cell_type": "code",
   "execution_count": 14,
   "metadata": {},
   "outputs": [
    {
     "data": {
      "text/plain": [
       "1    2062\n",
       "2     908\n",
       "多      13\n",
       "3      13\n",
       "5       2\n",
       "4       2\n",
       "Name: 卫, dtype: int64"
      ]
     },
     "execution_count": 14,
     "metadata": {},
     "output_type": "execute_result"
    }
   ],
   "source": [
    "df[\"卫\"].value_counts()"
   ]
  },
  {
   "cell_type": "markdown",
   "metadata": {},
   "source": [
    "由于数据中存在多厅多卫，所以不能完全转化为数据，我们将多厅和多卫均定义为3"
   ]
  },
  {
   "cell_type": "markdown",
   "metadata": {},
   "source": [
    "### 替换后"
   ]
  },
  {
   "cell_type": "code",
   "execution_count": 15,
   "metadata": {},
   "outputs": [],
   "source": [
    "df.loc[df['厅'] == '多','厅'] = 3\n",
    "df.loc[df['卫'] == '多','卫'] = 3"
   ]
  },
  {
   "cell_type": "code",
   "execution_count": 16,
   "metadata": {},
   "outputs": [],
   "source": [
    "df[\"室\"] = df[\"室\"].astype(int)\n",
    "df[\"厅\"] = df[\"厅\"].astype(int)\n",
    "df[\"卫\"] = df[\"卫\"].astype(int)"
   ]
  },
  {
   "cell_type": "code",
   "execution_count": 17,
   "metadata": {},
   "outputs": [
    {
     "data": {
      "text/plain": [
       "2    2437\n",
       "1     556\n",
       "3       7\n",
       "Name: 厅, dtype: int64"
      ]
     },
     "execution_count": 17,
     "metadata": {},
     "output_type": "execute_result"
    }
   ],
   "source": [
    "df[\"厅\"].value_counts()"
   ]
  },
  {
   "cell_type": "code",
   "execution_count": 18,
   "metadata": {},
   "outputs": [
    {
     "data": {
      "text/plain": [
       "1    2062\n",
       "2     908\n",
       "3      26\n",
       "5       2\n",
       "4       2\n",
       "Name: 卫, dtype: int64"
      ]
     },
     "execution_count": 18,
     "metadata": {},
     "output_type": "execute_result"
    }
   ],
   "source": [
    "df[\"卫\"].value_counts()"
   ]
  },
  {
   "cell_type": "markdown",
   "metadata": {},
   "source": [
    "## 3.将建筑面积去除平米，转化为float"
   ]
  },
  {
   "cell_type": "markdown",
   "metadata": {},
   "source": [
    "### 替换前"
   ]
  },
  {
   "cell_type": "code",
   "execution_count": 19,
   "metadata": {},
   "outputs": [
    {
     "data": {
      "text/plain": [
       "'117.58  平米'"
      ]
     },
     "execution_count": 19,
     "metadata": {},
     "output_type": "execute_result"
    }
   ],
   "source": [
    "df.loc[1,'建筑面积']"
   ]
  },
  {
   "cell_type": "markdown",
   "metadata": {},
   "source": [
    "### 替换后"
   ]
  },
  {
   "cell_type": "code",
   "execution_count": 20,
   "metadata": {},
   "outputs": [],
   "source": [
    "df[\"建筑面积\"] = df[\"建筑面积\"].map(lambda x: x.replace(\"平米\",\"\").strip())  # 先将平米全都替换成空,然后对字符串去空格"
   ]
  },
  {
   "cell_type": "code",
   "execution_count": 21,
   "metadata": {},
   "outputs": [
    {
     "data": {
      "text/plain": [
       "'117.58'"
      ]
     },
     "execution_count": 21,
     "metadata": {},
     "output_type": "execute_result"
    }
   ],
   "source": [
    "df.loc[1,'建筑面积']"
   ]
  },
  {
   "cell_type": "code",
   "execution_count": 22,
   "metadata": {},
   "outputs": [
    {
     "data": {
      "text/html": [
       "<div>\n",
       "<style scoped>\n",
       "    .dataframe tbody tr th:only-of-type {\n",
       "        vertical-align: middle;\n",
       "    }\n",
       "\n",
       "    .dataframe tbody tr th {\n",
       "        vertical-align: top;\n",
       "    }\n",
       "\n",
       "    .dataframe thead th {\n",
       "        text-align: right;\n",
       "    }\n",
       "</style>\n",
       "<table border=\"1\" class=\"dataframe\">\n",
       "  <thead>\n",
       "    <tr style=\"text-align: right;\">\n",
       "      <th></th>\n",
       "      <th>总价</th>\n",
       "      <th>单价</th>\n",
       "      <th>建筑面积</th>\n",
       "      <th>朝向</th>\n",
       "      <th>楼层</th>\n",
       "      <th>装修</th>\n",
       "      <th>室</th>\n",
       "      <th>厅</th>\n",
       "      <th>卫</th>\n",
       "    </tr>\n",
       "  </thead>\n",
       "  <tbody>\n",
       "    <tr>\n",
       "      <th>0</th>\n",
       "      <td>300万</td>\n",
       "      <td>单价34091元/m²</td>\n",
       "      <td>88.00</td>\n",
       "      <td>南北</td>\n",
       "      <td>中楼层/14层</td>\n",
       "      <td>精装</td>\n",
       "      <td>3</td>\n",
       "      <td>2</td>\n",
       "      <td>1</td>\n",
       "    </tr>\n",
       "    <tr>\n",
       "      <th>1</th>\n",
       "      <td>326万</td>\n",
       "      <td>单价27726元/m²</td>\n",
       "      <td>117.58</td>\n",
       "      <td>南</td>\n",
       "      <td>低楼层/4层</td>\n",
       "      <td>简装</td>\n",
       "      <td>3</td>\n",
       "      <td>2</td>\n",
       "      <td>1</td>\n",
       "    </tr>\n",
       "    <tr>\n",
       "      <th>2</th>\n",
       "      <td>295万</td>\n",
       "      <td>单价33447元/m²</td>\n",
       "      <td>88.20</td>\n",
       "      <td>南北</td>\n",
       "      <td>高楼层/18层</td>\n",
       "      <td>精装</td>\n",
       "      <td>3</td>\n",
       "      <td>2</td>\n",
       "      <td>1</td>\n",
       "    </tr>\n",
       "    <tr>\n",
       "      <th>3</th>\n",
       "      <td>315万</td>\n",
       "      <td>单价25200元/m²</td>\n",
       "      <td>125.00</td>\n",
       "      <td>南北</td>\n",
       "      <td>底层/5层</td>\n",
       "      <td>中装</td>\n",
       "      <td>3</td>\n",
       "      <td>2</td>\n",
       "      <td>2</td>\n",
       "    </tr>\n",
       "    <tr>\n",
       "      <th>4</th>\n",
       "      <td>420万</td>\n",
       "      <td>单价37320元/m²</td>\n",
       "      <td>112.54</td>\n",
       "      <td>南北</td>\n",
       "      <td>中楼层/8层</td>\n",
       "      <td>简装</td>\n",
       "      <td>4</td>\n",
       "      <td>2</td>\n",
       "      <td>2</td>\n",
       "    </tr>\n",
       "  </tbody>\n",
       "</table>\n",
       "</div>"
      ],
      "text/plain": [
       "     总价           单价    建筑面积  朝向       楼层  装修  室  厅  卫\n",
       "0  300万  单价34091元/m²   88.00  南北  中楼层/14层  精装  3  2  1\n",
       "1  326万  单价27726元/m²  117.58   南   低楼层/4层  简装  3  2  1\n",
       "2  295万  单价33447元/m²   88.20  南北  高楼层/18层  精装  3  2  1\n",
       "3  315万  单价25200元/m²  125.00  南北    底层/5层  中装  3  2  2\n",
       "4  420万  单价37320元/m²  112.54  南北   中楼层/8层  简装  4  2  2"
      ]
     },
     "execution_count": 22,
     "metadata": {},
     "output_type": "execute_result"
    }
   ],
   "source": [
    "df[\"建筑面积\"] = df[\"建筑面积\"].astype(float)\n",
    "df.head()"
   ]
  },
  {
   "cell_type": "markdown",
   "metadata": {},
   "source": [
    "## 4.总价去除万，转换成float"
   ]
  },
  {
   "cell_type": "markdown",
   "metadata": {},
   "source": [
    "### 替换前"
   ]
  },
  {
   "cell_type": "code",
   "execution_count": 23,
   "metadata": {},
   "outputs": [
    {
     "data": {
      "text/plain": [
       "'326万'"
      ]
     },
     "execution_count": 23,
     "metadata": {},
     "output_type": "execute_result"
    }
   ],
   "source": [
    "df.loc[1,'总价']"
   ]
  },
  {
   "cell_type": "markdown",
   "metadata": {},
   "source": [
    "### 替换后"
   ]
  },
  {
   "cell_type": "code",
   "execution_count": 24,
   "metadata": {},
   "outputs": [],
   "source": [
    "df[\"总价\"] = df[\"总价\"].map(lambda x:x.replace(\"万\",\"\").strip())"
   ]
  },
  {
   "cell_type": "code",
   "execution_count": 25,
   "metadata": {},
   "outputs": [
    {
     "data": {
      "text/plain": [
       "'326'"
      ]
     },
     "execution_count": 25,
     "metadata": {},
     "output_type": "execute_result"
    }
   ],
   "source": [
    "df.loc[1,'总价']"
   ]
  },
  {
   "cell_type": "code",
   "execution_count": 26,
   "metadata": {},
   "outputs": [
    {
     "data": {
      "text/html": [
       "<div>\n",
       "<style scoped>\n",
       "    .dataframe tbody tr th:only-of-type {\n",
       "        vertical-align: middle;\n",
       "    }\n",
       "\n",
       "    .dataframe tbody tr th {\n",
       "        vertical-align: top;\n",
       "    }\n",
       "\n",
       "    .dataframe thead th {\n",
       "        text-align: right;\n",
       "    }\n",
       "</style>\n",
       "<table border=\"1\" class=\"dataframe\">\n",
       "  <thead>\n",
       "    <tr style=\"text-align: right;\">\n",
       "      <th></th>\n",
       "      <th>总价</th>\n",
       "      <th>单价</th>\n",
       "      <th>建筑面积</th>\n",
       "      <th>朝向</th>\n",
       "      <th>楼层</th>\n",
       "      <th>装修</th>\n",
       "      <th>室</th>\n",
       "      <th>厅</th>\n",
       "      <th>卫</th>\n",
       "    </tr>\n",
       "  </thead>\n",
       "  <tbody>\n",
       "    <tr>\n",
       "      <th>0</th>\n",
       "      <td>300.0</td>\n",
       "      <td>单价34091元/m²</td>\n",
       "      <td>88.00</td>\n",
       "      <td>南北</td>\n",
       "      <td>中楼层/14层</td>\n",
       "      <td>精装</td>\n",
       "      <td>3</td>\n",
       "      <td>2</td>\n",
       "      <td>1</td>\n",
       "    </tr>\n",
       "    <tr>\n",
       "      <th>1</th>\n",
       "      <td>326.0</td>\n",
       "      <td>单价27726元/m²</td>\n",
       "      <td>117.58</td>\n",
       "      <td>南</td>\n",
       "      <td>低楼层/4层</td>\n",
       "      <td>简装</td>\n",
       "      <td>3</td>\n",
       "      <td>2</td>\n",
       "      <td>1</td>\n",
       "    </tr>\n",
       "    <tr>\n",
       "      <th>2</th>\n",
       "      <td>295.0</td>\n",
       "      <td>单价33447元/m²</td>\n",
       "      <td>88.20</td>\n",
       "      <td>南北</td>\n",
       "      <td>高楼层/18层</td>\n",
       "      <td>精装</td>\n",
       "      <td>3</td>\n",
       "      <td>2</td>\n",
       "      <td>1</td>\n",
       "    </tr>\n",
       "    <tr>\n",
       "      <th>3</th>\n",
       "      <td>315.0</td>\n",
       "      <td>单价25200元/m²</td>\n",
       "      <td>125.00</td>\n",
       "      <td>南北</td>\n",
       "      <td>底层/5层</td>\n",
       "      <td>中装</td>\n",
       "      <td>3</td>\n",
       "      <td>2</td>\n",
       "      <td>2</td>\n",
       "    </tr>\n",
       "    <tr>\n",
       "      <th>4</th>\n",
       "      <td>420.0</td>\n",
       "      <td>单价37320元/m²</td>\n",
       "      <td>112.54</td>\n",
       "      <td>南北</td>\n",
       "      <td>中楼层/8层</td>\n",
       "      <td>简装</td>\n",
       "      <td>4</td>\n",
       "      <td>2</td>\n",
       "      <td>2</td>\n",
       "    </tr>\n",
       "  </tbody>\n",
       "</table>\n",
       "</div>"
      ],
      "text/plain": [
       "      总价           单价    建筑面积  朝向       楼层  装修  室  厅  卫\n",
       "0  300.0  单价34091元/m²   88.00  南北  中楼层/14层  精装  3  2  1\n",
       "1  326.0  单价27726元/m²  117.58   南   低楼层/4层  简装  3  2  1\n",
       "2  295.0  单价33447元/m²   88.20  南北  高楼层/18层  精装  3  2  1\n",
       "3  315.0  单价25200元/m²  125.00  南北    底层/5层  中装  3  2  2\n",
       "4  420.0  单价37320元/m²  112.54  南北   中楼层/8层  简装  4  2  2"
      ]
     },
     "execution_count": 26,
     "metadata": {},
     "output_type": "execute_result"
    }
   ],
   "source": [
    "df[\"总价\"] = df[\"总价\"].astype(float)\n",
    "df.head()"
   ]
  },
  {
   "cell_type": "markdown",
   "metadata": {},
   "source": [
    "## 5.单价取数字"
   ]
  },
  {
   "cell_type": "code",
   "execution_count": 27,
   "metadata": {},
   "outputs": [
    {
     "data": {
      "text/plain": [
       "'单价27726元/m²'"
      ]
     },
     "execution_count": 27,
     "metadata": {},
     "output_type": "execute_result"
    }
   ],
   "source": [
    "df.loc[1,'单价']"
   ]
  },
  {
   "cell_type": "code",
   "execution_count": 28,
   "metadata": {},
   "outputs": [],
   "source": [
    "df[\"单价\"] = df[\"单价\"].str.extract(\"单价(\\d+)元/m²\")"
   ]
  },
  {
   "cell_type": "code",
   "execution_count": 29,
   "metadata": {},
   "outputs": [
    {
     "data": {
      "text/plain": [
       "'27726'"
      ]
     },
     "execution_count": 29,
     "metadata": {},
     "output_type": "execute_result"
    }
   ],
   "source": [
    "df.loc[1,'单价']"
   ]
  },
  {
   "cell_type": "code",
   "execution_count": 30,
   "metadata": {},
   "outputs": [
    {
     "data": {
      "text/html": [
       "<div>\n",
       "<style scoped>\n",
       "    .dataframe tbody tr th:only-of-type {\n",
       "        vertical-align: middle;\n",
       "    }\n",
       "\n",
       "    .dataframe tbody tr th {\n",
       "        vertical-align: top;\n",
       "    }\n",
       "\n",
       "    .dataframe thead th {\n",
       "        text-align: right;\n",
       "    }\n",
       "</style>\n",
       "<table border=\"1\" class=\"dataframe\">\n",
       "  <thead>\n",
       "    <tr style=\"text-align: right;\">\n",
       "      <th></th>\n",
       "      <th>总价</th>\n",
       "      <th>单价</th>\n",
       "      <th>建筑面积</th>\n",
       "      <th>朝向</th>\n",
       "      <th>楼层</th>\n",
       "      <th>装修</th>\n",
       "      <th>室</th>\n",
       "      <th>厅</th>\n",
       "      <th>卫</th>\n",
       "    </tr>\n",
       "  </thead>\n",
       "  <tbody>\n",
       "    <tr>\n",
       "      <th>0</th>\n",
       "      <td>300.0</td>\n",
       "      <td>34091.0</td>\n",
       "      <td>88.00</td>\n",
       "      <td>南北</td>\n",
       "      <td>中楼层/14层</td>\n",
       "      <td>精装</td>\n",
       "      <td>3</td>\n",
       "      <td>2</td>\n",
       "      <td>1</td>\n",
       "    </tr>\n",
       "    <tr>\n",
       "      <th>1</th>\n",
       "      <td>326.0</td>\n",
       "      <td>27726.0</td>\n",
       "      <td>117.58</td>\n",
       "      <td>南</td>\n",
       "      <td>低楼层/4层</td>\n",
       "      <td>简装</td>\n",
       "      <td>3</td>\n",
       "      <td>2</td>\n",
       "      <td>1</td>\n",
       "    </tr>\n",
       "    <tr>\n",
       "      <th>2</th>\n",
       "      <td>295.0</td>\n",
       "      <td>33447.0</td>\n",
       "      <td>88.20</td>\n",
       "      <td>南北</td>\n",
       "      <td>高楼层/18层</td>\n",
       "      <td>精装</td>\n",
       "      <td>3</td>\n",
       "      <td>2</td>\n",
       "      <td>1</td>\n",
       "    </tr>\n",
       "    <tr>\n",
       "      <th>3</th>\n",
       "      <td>315.0</td>\n",
       "      <td>25200.0</td>\n",
       "      <td>125.00</td>\n",
       "      <td>南北</td>\n",
       "      <td>底层/5层</td>\n",
       "      <td>中装</td>\n",
       "      <td>3</td>\n",
       "      <td>2</td>\n",
       "      <td>2</td>\n",
       "    </tr>\n",
       "    <tr>\n",
       "      <th>4</th>\n",
       "      <td>420.0</td>\n",
       "      <td>37320.0</td>\n",
       "      <td>112.54</td>\n",
       "      <td>南北</td>\n",
       "      <td>中楼层/8层</td>\n",
       "      <td>简装</td>\n",
       "      <td>4</td>\n",
       "      <td>2</td>\n",
       "      <td>2</td>\n",
       "    </tr>\n",
       "  </tbody>\n",
       "</table>\n",
       "</div>"
      ],
      "text/plain": [
       "      总价       单价    建筑面积  朝向       楼层  装修  室  厅  卫\n",
       "0  300.0  34091.0   88.00  南北  中楼层/14层  精装  3  2  1\n",
       "1  326.0  27726.0  117.58   南   低楼层/4层  简装  3  2  1\n",
       "2  295.0  33447.0   88.20  南北  高楼层/18层  精装  3  2  1\n",
       "3  315.0  25200.0  125.00  南北    底层/5层  中装  3  2  2\n",
       "4  420.0  37320.0  112.54  南北   中楼层/8层  简装  4  2  2"
      ]
     },
     "execution_count": 30,
     "metadata": {},
     "output_type": "execute_result"
    }
   ],
   "source": [
    "df[\"单价\"] = df[\"单价\"].astype(float)\n",
    "df.head()"
   ]
  },
  {
   "cell_type": "markdown",
   "metadata": {},
   "source": [
    "## 6.楼层转换"
   ]
  },
  {
   "cell_type": "code",
   "execution_count": 31,
   "metadata": {},
   "outputs": [
    {
     "data": {
      "text/html": [
       "<div>\n",
       "<style scoped>\n",
       "    .dataframe tbody tr th:only-of-type {\n",
       "        vertical-align: middle;\n",
       "    }\n",
       "\n",
       "    .dataframe tbody tr th {\n",
       "        vertical-align: top;\n",
       "    }\n",
       "\n",
       "    .dataframe thead th {\n",
       "        text-align: right;\n",
       "    }\n",
       "</style>\n",
       "<table border=\"1\" class=\"dataframe\">\n",
       "  <thead>\n",
       "    <tr style=\"text-align: right;\">\n",
       "      <th></th>\n",
       "      <th>总价</th>\n",
       "      <th>单价</th>\n",
       "      <th>建筑面积</th>\n",
       "      <th>朝向</th>\n",
       "      <th>楼层</th>\n",
       "      <th>装修</th>\n",
       "      <th>室</th>\n",
       "      <th>厅</th>\n",
       "      <th>卫</th>\n",
       "    </tr>\n",
       "  </thead>\n",
       "  <tbody>\n",
       "    <tr>\n",
       "      <th>0</th>\n",
       "      <td>300.0</td>\n",
       "      <td>34091.0</td>\n",
       "      <td>88.00</td>\n",
       "      <td>南北</td>\n",
       "      <td>中楼层</td>\n",
       "      <td>精装</td>\n",
       "      <td>3</td>\n",
       "      <td>2</td>\n",
       "      <td>1</td>\n",
       "    </tr>\n",
       "    <tr>\n",
       "      <th>1</th>\n",
       "      <td>326.0</td>\n",
       "      <td>27726.0</td>\n",
       "      <td>117.58</td>\n",
       "      <td>南</td>\n",
       "      <td>低楼层</td>\n",
       "      <td>简装</td>\n",
       "      <td>3</td>\n",
       "      <td>2</td>\n",
       "      <td>1</td>\n",
       "    </tr>\n",
       "    <tr>\n",
       "      <th>2</th>\n",
       "      <td>295.0</td>\n",
       "      <td>33447.0</td>\n",
       "      <td>88.20</td>\n",
       "      <td>南北</td>\n",
       "      <td>高楼层</td>\n",
       "      <td>精装</td>\n",
       "      <td>3</td>\n",
       "      <td>2</td>\n",
       "      <td>1</td>\n",
       "    </tr>\n",
       "    <tr>\n",
       "      <th>3</th>\n",
       "      <td>315.0</td>\n",
       "      <td>25200.0</td>\n",
       "      <td>125.00</td>\n",
       "      <td>南北</td>\n",
       "      <td>底层</td>\n",
       "      <td>中装</td>\n",
       "      <td>3</td>\n",
       "      <td>2</td>\n",
       "      <td>2</td>\n",
       "    </tr>\n",
       "    <tr>\n",
       "      <th>4</th>\n",
       "      <td>420.0</td>\n",
       "      <td>37320.0</td>\n",
       "      <td>112.54</td>\n",
       "      <td>南北</td>\n",
       "      <td>中楼层</td>\n",
       "      <td>简装</td>\n",
       "      <td>4</td>\n",
       "      <td>2</td>\n",
       "      <td>2</td>\n",
       "    </tr>\n",
       "  </tbody>\n",
       "</table>\n",
       "</div>"
      ],
      "text/plain": [
       "      总价       单价    建筑面积  朝向   楼层  装修  室  厅  卫\n",
       "0  300.0  34091.0   88.00  南北  中楼层  精装  3  2  1\n",
       "1  326.0  27726.0  117.58   南  低楼层  简装  3  2  1\n",
       "2  295.0  33447.0   88.20  南北  高楼层  精装  3  2  1\n",
       "3  315.0  25200.0  125.00  南北   底层  中装  3  2  2\n",
       "4  420.0  37320.0  112.54  南北  中楼层  简装  4  2  2"
      ]
     },
     "execution_count": 31,
     "metadata": {},
     "output_type": "execute_result"
    }
   ],
   "source": [
    "df[\"楼层\"] = df[\"楼层\"].str.extract(\"(.+)/.+层\")\n",
    "df.head()"
   ]
  },
  {
   "cell_type": "markdown",
   "metadata": {},
   "source": [
    "# 线性回归"
   ]
  },
  {
   "cell_type": "markdown",
   "metadata": {},
   "source": [
    "由于目标总价是连续型，而朝向，楼层等都是有限的离散型数据，所以我们要采用one-hot编码，对其重新编码。"
   ]
  },
  {
   "cell_type": "code",
   "execution_count": 32,
   "metadata": {},
   "outputs": [
    {
     "name": "stdout",
     "output_type": "stream",
     "text": [
      "3000\n"
     ]
    },
    {
     "data": {
      "text/html": [
       "<div>\n",
       "<style scoped>\n",
       "    .dataframe tbody tr th:only-of-type {\n",
       "        vertical-align: middle;\n",
       "    }\n",
       "\n",
       "    .dataframe tbody tr th {\n",
       "        vertical-align: top;\n",
       "    }\n",
       "\n",
       "    .dataframe thead th {\n",
       "        text-align: right;\n",
       "    }\n",
       "</style>\n",
       "<table border=\"1\" class=\"dataframe\">\n",
       "  <thead>\n",
       "    <tr style=\"text-align: right;\">\n",
       "      <th></th>\n",
       "      <th>东</th>\n",
       "      <th>东北</th>\n",
       "      <th>东南</th>\n",
       "      <th>东西</th>\n",
       "      <th>北</th>\n",
       "      <th>南</th>\n",
       "      <th>南东北</th>\n",
       "      <th>南北</th>\n",
       "      <th>西</th>\n",
       "      <th>西北</th>\n",
       "      <th>西南</th>\n",
       "    </tr>\n",
       "  </thead>\n",
       "  <tbody>\n",
       "    <tr>\n",
       "      <th>0</th>\n",
       "      <td>0</td>\n",
       "      <td>0</td>\n",
       "      <td>0</td>\n",
       "      <td>0</td>\n",
       "      <td>0</td>\n",
       "      <td>0</td>\n",
       "      <td>0</td>\n",
       "      <td>1</td>\n",
       "      <td>0</td>\n",
       "      <td>0</td>\n",
       "      <td>0</td>\n",
       "    </tr>\n",
       "    <tr>\n",
       "      <th>1</th>\n",
       "      <td>0</td>\n",
       "      <td>0</td>\n",
       "      <td>0</td>\n",
       "      <td>0</td>\n",
       "      <td>0</td>\n",
       "      <td>1</td>\n",
       "      <td>0</td>\n",
       "      <td>0</td>\n",
       "      <td>0</td>\n",
       "      <td>0</td>\n",
       "      <td>0</td>\n",
       "    </tr>\n",
       "    <tr>\n",
       "      <th>2</th>\n",
       "      <td>0</td>\n",
       "      <td>0</td>\n",
       "      <td>0</td>\n",
       "      <td>0</td>\n",
       "      <td>0</td>\n",
       "      <td>0</td>\n",
       "      <td>0</td>\n",
       "      <td>1</td>\n",
       "      <td>0</td>\n",
       "      <td>0</td>\n",
       "      <td>0</td>\n",
       "    </tr>\n",
       "    <tr>\n",
       "      <th>3</th>\n",
       "      <td>0</td>\n",
       "      <td>0</td>\n",
       "      <td>0</td>\n",
       "      <td>0</td>\n",
       "      <td>0</td>\n",
       "      <td>0</td>\n",
       "      <td>0</td>\n",
       "      <td>1</td>\n",
       "      <td>0</td>\n",
       "      <td>0</td>\n",
       "      <td>0</td>\n",
       "    </tr>\n",
       "    <tr>\n",
       "      <th>4</th>\n",
       "      <td>0</td>\n",
       "      <td>0</td>\n",
       "      <td>0</td>\n",
       "      <td>0</td>\n",
       "      <td>0</td>\n",
       "      <td>0</td>\n",
       "      <td>0</td>\n",
       "      <td>1</td>\n",
       "      <td>0</td>\n",
       "      <td>0</td>\n",
       "      <td>0</td>\n",
       "    </tr>\n",
       "  </tbody>\n",
       "</table>\n",
       "</div>"
      ],
      "text/plain": [
       "   东  东北  东南  东西  北  南  南东北  南北  西  西北  西南\n",
       "0  0   0   0   0  0  0    0   1  0   0   0\n",
       "1  0   0   0   0  0  1    0   0  0   0   0\n",
       "2  0   0   0   0  0  0    0   1  0   0   0\n",
       "3  0   0   0   0  0  0    0   1  0   0   0\n",
       "4  0   0   0   0  0  0    0   1  0   0   0"
      ]
     },
     "execution_count": 32,
     "metadata": {},
     "output_type": "execute_result"
    }
   ],
   "source": [
    "# 朝向取出dummy_virable编码\n",
    "df_direction = pd.get_dummies(df[\"朝向\"])\n",
    "print(df_direction.shape[0])\n",
    "df_direction.head(5)"
   ]
  },
  {
   "cell_type": "code",
   "execution_count": 34,
   "metadata": {},
   "outputs": [
    {
     "name": "stdout",
     "output_type": "stream",
     "text": [
      "3000\n"
     ]
    },
    {
     "data": {
      "text/html": [
       "<div>\n",
       "<style scoped>\n",
       "    .dataframe tbody tr th:only-of-type {\n",
       "        vertical-align: middle;\n",
       "    }\n",
       "\n",
       "    .dataframe tbody tr th {\n",
       "        vertical-align: top;\n",
       "    }\n",
       "\n",
       "    .dataframe thead th {\n",
       "        text-align: right;\n",
       "    }\n",
       "</style>\n",
       "<table border=\"1\" class=\"dataframe\">\n",
       "  <thead>\n",
       "    <tr style=\"text-align: right;\">\n",
       "      <th></th>\n",
       "      <th>中装</th>\n",
       "      <th>毛坯</th>\n",
       "      <th>简装</th>\n",
       "      <th>精装</th>\n",
       "    </tr>\n",
       "  </thead>\n",
       "  <tbody>\n",
       "    <tr>\n",
       "      <th>0</th>\n",
       "      <td>0</td>\n",
       "      <td>0</td>\n",
       "      <td>0</td>\n",
       "      <td>1</td>\n",
       "    </tr>\n",
       "    <tr>\n",
       "      <th>1</th>\n",
       "      <td>0</td>\n",
       "      <td>0</td>\n",
       "      <td>1</td>\n",
       "      <td>0</td>\n",
       "    </tr>\n",
       "    <tr>\n",
       "      <th>2</th>\n",
       "      <td>0</td>\n",
       "      <td>0</td>\n",
       "      <td>0</td>\n",
       "      <td>1</td>\n",
       "    </tr>\n",
       "    <tr>\n",
       "      <th>3</th>\n",
       "      <td>1</td>\n",
       "      <td>0</td>\n",
       "      <td>0</td>\n",
       "      <td>0</td>\n",
       "    </tr>\n",
       "    <tr>\n",
       "      <th>4</th>\n",
       "      <td>0</td>\n",
       "      <td>0</td>\n",
       "      <td>1</td>\n",
       "      <td>0</td>\n",
       "    </tr>\n",
       "  </tbody>\n",
       "</table>\n",
       "</div>"
      ],
      "text/plain": [
       "   中装  毛坯  简装  精装\n",
       "0   0   0   0   1\n",
       "1   0   0   1   0\n",
       "2   0   0   0   1\n",
       "3   1   0   0   0\n",
       "4   0   0   1   0"
      ]
     },
     "execution_count": 34,
     "metadata": {},
     "output_type": "execute_result"
    }
   ],
   "source": [
    "# 装修取出dummy virable\n",
    "df_decoration = pd.get_dummies(df[\"装修\"])\n",
    "print(df_decoration.shape[0])\n",
    "df_decoration.head()"
   ]
  },
  {
   "cell_type": "code",
   "execution_count": 35,
   "metadata": {},
   "outputs": [
    {
     "name": "stdout",
     "output_type": "stream",
     "text": [
      "3000\n"
     ]
    },
    {
     "data": {
      "text/html": [
       "<div>\n",
       "<style scoped>\n",
       "    .dataframe tbody tr th:only-of-type {\n",
       "        vertical-align: middle;\n",
       "    }\n",
       "\n",
       "    .dataframe tbody tr th {\n",
       "        vertical-align: top;\n",
       "    }\n",
       "\n",
       "    .dataframe thead th {\n",
       "        text-align: right;\n",
       "    }\n",
       "</style>\n",
       "<table border=\"1\" class=\"dataframe\">\n",
       "  <thead>\n",
       "    <tr style=\"text-align: right;\">\n",
       "      <th></th>\n",
       "      <th>中楼层</th>\n",
       "      <th>低楼层</th>\n",
       "      <th>底层</th>\n",
       "      <th>顶层</th>\n",
       "      <th>高楼层</th>\n",
       "    </tr>\n",
       "  </thead>\n",
       "  <tbody>\n",
       "    <tr>\n",
       "      <th>0</th>\n",
       "      <td>1</td>\n",
       "      <td>0</td>\n",
       "      <td>0</td>\n",
       "      <td>0</td>\n",
       "      <td>0</td>\n",
       "    </tr>\n",
       "    <tr>\n",
       "      <th>1</th>\n",
       "      <td>0</td>\n",
       "      <td>1</td>\n",
       "      <td>0</td>\n",
       "      <td>0</td>\n",
       "      <td>0</td>\n",
       "    </tr>\n",
       "    <tr>\n",
       "      <th>2</th>\n",
       "      <td>0</td>\n",
       "      <td>0</td>\n",
       "      <td>0</td>\n",
       "      <td>0</td>\n",
       "      <td>1</td>\n",
       "    </tr>\n",
       "    <tr>\n",
       "      <th>3</th>\n",
       "      <td>0</td>\n",
       "      <td>0</td>\n",
       "      <td>1</td>\n",
       "      <td>0</td>\n",
       "      <td>0</td>\n",
       "    </tr>\n",
       "    <tr>\n",
       "      <th>4</th>\n",
       "      <td>1</td>\n",
       "      <td>0</td>\n",
       "      <td>0</td>\n",
       "      <td>0</td>\n",
       "      <td>0</td>\n",
       "    </tr>\n",
       "  </tbody>\n",
       "</table>\n",
       "</div>"
      ],
      "text/plain": [
       "   中楼层  低楼层  底层  顶层  高楼层\n",
       "0    1    0   0   0    0\n",
       "1    0    1   0   0    0\n",
       "2    0    0   0   0    1\n",
       "3    0    0   1   0    0\n",
       "4    1    0   0   0    0"
      ]
     },
     "execution_count": 35,
     "metadata": {},
     "output_type": "execute_result"
    }
   ],
   "source": [
    "# 楼层取出流程dummy variable\n",
    "df_floor = pd.get_dummies(df[\"楼层\"])\n",
    "print(df_floor.shape[0])\n",
    "df_floor.head()"
   ]
  },
  {
   "cell_type": "code",
   "execution_count": 36,
   "metadata": {},
   "outputs": [],
   "source": [
    "#删除朝向，楼层，装修\n",
    "del df[\"朝向\"]\n",
    "del df[\"楼层\"]\n",
    "del df[\"装修\"]"
   ]
  },
  {
   "cell_type": "code",
   "execution_count": 37,
   "metadata": {},
   "outputs": [
    {
     "data": {
      "text/html": [
       "<div>\n",
       "<style scoped>\n",
       "    .dataframe tbody tr th:only-of-type {\n",
       "        vertical-align: middle;\n",
       "    }\n",
       "\n",
       "    .dataframe tbody tr th {\n",
       "        vertical-align: top;\n",
       "    }\n",
       "\n",
       "    .dataframe thead th {\n",
       "        text-align: right;\n",
       "    }\n",
       "</style>\n",
       "<table border=\"1\" class=\"dataframe\">\n",
       "  <thead>\n",
       "    <tr style=\"text-align: right;\">\n",
       "      <th></th>\n",
       "      <th>总价</th>\n",
       "      <th>单价</th>\n",
       "      <th>建筑面积</th>\n",
       "      <th>室</th>\n",
       "      <th>厅</th>\n",
       "      <th>卫</th>\n",
       "    </tr>\n",
       "  </thead>\n",
       "  <tbody>\n",
       "    <tr>\n",
       "      <th>0</th>\n",
       "      <td>300.0</td>\n",
       "      <td>34091.0</td>\n",
       "      <td>88.00</td>\n",
       "      <td>3</td>\n",
       "      <td>2</td>\n",
       "      <td>1</td>\n",
       "    </tr>\n",
       "    <tr>\n",
       "      <th>1</th>\n",
       "      <td>326.0</td>\n",
       "      <td>27726.0</td>\n",
       "      <td>117.58</td>\n",
       "      <td>3</td>\n",
       "      <td>2</td>\n",
       "      <td>1</td>\n",
       "    </tr>\n",
       "    <tr>\n",
       "      <th>2</th>\n",
       "      <td>295.0</td>\n",
       "      <td>33447.0</td>\n",
       "      <td>88.20</td>\n",
       "      <td>3</td>\n",
       "      <td>2</td>\n",
       "      <td>1</td>\n",
       "    </tr>\n",
       "    <tr>\n",
       "      <th>3</th>\n",
       "      <td>315.0</td>\n",
       "      <td>25200.0</td>\n",
       "      <td>125.00</td>\n",
       "      <td>3</td>\n",
       "      <td>2</td>\n",
       "      <td>2</td>\n",
       "    </tr>\n",
       "    <tr>\n",
       "      <th>4</th>\n",
       "      <td>420.0</td>\n",
       "      <td>37320.0</td>\n",
       "      <td>112.54</td>\n",
       "      <td>4</td>\n",
       "      <td>2</td>\n",
       "      <td>2</td>\n",
       "    </tr>\n",
       "  </tbody>\n",
       "</table>\n",
       "</div>"
      ],
      "text/plain": [
       "      总价       单价    建筑面积  室  厅  卫\n",
       "0  300.0  34091.0   88.00  3  2  1\n",
       "1  326.0  27726.0  117.58  3  2  1\n",
       "2  295.0  33447.0   88.20  3  2  1\n",
       "3  315.0  25200.0  125.00  3  2  2\n",
       "4  420.0  37320.0  112.54  4  2  2"
      ]
     },
     "execution_count": 37,
     "metadata": {},
     "output_type": "execute_result"
    }
   ],
   "source": [
    "df.head()"
   ]
  },
  {
   "cell_type": "code",
   "execution_count": 38,
   "metadata": {},
   "outputs": [],
   "source": [
    "#将朝向，装修，楼层的dummy variable 拼接到df\n",
    "df = pd.concat([df,df_decoration,df_direction,df_floor],axis=1)"
   ]
  },
  {
   "cell_type": "code",
   "execution_count": 39,
   "metadata": {},
   "outputs": [
    {
     "data": {
      "text/html": [
       "<div>\n",
       "<style scoped>\n",
       "    .dataframe tbody tr th:only-of-type {\n",
       "        vertical-align: middle;\n",
       "    }\n",
       "\n",
       "    .dataframe tbody tr th {\n",
       "        vertical-align: top;\n",
       "    }\n",
       "\n",
       "    .dataframe thead th {\n",
       "        text-align: right;\n",
       "    }\n",
       "</style>\n",
       "<table border=\"1\" class=\"dataframe\">\n",
       "  <thead>\n",
       "    <tr style=\"text-align: right;\">\n",
       "      <th></th>\n",
       "      <th>总价</th>\n",
       "      <th>单价</th>\n",
       "      <th>建筑面积</th>\n",
       "      <th>室</th>\n",
       "      <th>厅</th>\n",
       "      <th>卫</th>\n",
       "      <th>中装</th>\n",
       "      <th>毛坯</th>\n",
       "      <th>简装</th>\n",
       "      <th>精装</th>\n",
       "      <th>...</th>\n",
       "      <th>南东北</th>\n",
       "      <th>南北</th>\n",
       "      <th>西</th>\n",
       "      <th>西北</th>\n",
       "      <th>西南</th>\n",
       "      <th>中楼层</th>\n",
       "      <th>低楼层</th>\n",
       "      <th>底层</th>\n",
       "      <th>顶层</th>\n",
       "      <th>高楼层</th>\n",
       "    </tr>\n",
       "  </thead>\n",
       "  <tbody>\n",
       "    <tr>\n",
       "      <th>0</th>\n",
       "      <td>300.0</td>\n",
       "      <td>34091.0</td>\n",
       "      <td>88.00</td>\n",
       "      <td>3</td>\n",
       "      <td>2</td>\n",
       "      <td>1</td>\n",
       "      <td>0</td>\n",
       "      <td>0</td>\n",
       "      <td>0</td>\n",
       "      <td>1</td>\n",
       "      <td>...</td>\n",
       "      <td>0</td>\n",
       "      <td>1</td>\n",
       "      <td>0</td>\n",
       "      <td>0</td>\n",
       "      <td>0</td>\n",
       "      <td>1</td>\n",
       "      <td>0</td>\n",
       "      <td>0</td>\n",
       "      <td>0</td>\n",
       "      <td>0</td>\n",
       "    </tr>\n",
       "    <tr>\n",
       "      <th>1</th>\n",
       "      <td>326.0</td>\n",
       "      <td>27726.0</td>\n",
       "      <td>117.58</td>\n",
       "      <td>3</td>\n",
       "      <td>2</td>\n",
       "      <td>1</td>\n",
       "      <td>0</td>\n",
       "      <td>0</td>\n",
       "      <td>1</td>\n",
       "      <td>0</td>\n",
       "      <td>...</td>\n",
       "      <td>0</td>\n",
       "      <td>0</td>\n",
       "      <td>0</td>\n",
       "      <td>0</td>\n",
       "      <td>0</td>\n",
       "      <td>0</td>\n",
       "      <td>1</td>\n",
       "      <td>0</td>\n",
       "      <td>0</td>\n",
       "      <td>0</td>\n",
       "    </tr>\n",
       "    <tr>\n",
       "      <th>2</th>\n",
       "      <td>295.0</td>\n",
       "      <td>33447.0</td>\n",
       "      <td>88.20</td>\n",
       "      <td>3</td>\n",
       "      <td>2</td>\n",
       "      <td>1</td>\n",
       "      <td>0</td>\n",
       "      <td>0</td>\n",
       "      <td>0</td>\n",
       "      <td>1</td>\n",
       "      <td>...</td>\n",
       "      <td>0</td>\n",
       "      <td>1</td>\n",
       "      <td>0</td>\n",
       "      <td>0</td>\n",
       "      <td>0</td>\n",
       "      <td>0</td>\n",
       "      <td>0</td>\n",
       "      <td>0</td>\n",
       "      <td>0</td>\n",
       "      <td>1</td>\n",
       "    </tr>\n",
       "    <tr>\n",
       "      <th>3</th>\n",
       "      <td>315.0</td>\n",
       "      <td>25200.0</td>\n",
       "      <td>125.00</td>\n",
       "      <td>3</td>\n",
       "      <td>2</td>\n",
       "      <td>2</td>\n",
       "      <td>1</td>\n",
       "      <td>0</td>\n",
       "      <td>0</td>\n",
       "      <td>0</td>\n",
       "      <td>...</td>\n",
       "      <td>0</td>\n",
       "      <td>1</td>\n",
       "      <td>0</td>\n",
       "      <td>0</td>\n",
       "      <td>0</td>\n",
       "      <td>0</td>\n",
       "      <td>0</td>\n",
       "      <td>1</td>\n",
       "      <td>0</td>\n",
       "      <td>0</td>\n",
       "    </tr>\n",
       "    <tr>\n",
       "      <th>4</th>\n",
       "      <td>420.0</td>\n",
       "      <td>37320.0</td>\n",
       "      <td>112.54</td>\n",
       "      <td>4</td>\n",
       "      <td>2</td>\n",
       "      <td>2</td>\n",
       "      <td>0</td>\n",
       "      <td>0</td>\n",
       "      <td>1</td>\n",
       "      <td>0</td>\n",
       "      <td>...</td>\n",
       "      <td>0</td>\n",
       "      <td>1</td>\n",
       "      <td>0</td>\n",
       "      <td>0</td>\n",
       "      <td>0</td>\n",
       "      <td>1</td>\n",
       "      <td>0</td>\n",
       "      <td>0</td>\n",
       "      <td>0</td>\n",
       "      <td>0</td>\n",
       "    </tr>\n",
       "  </tbody>\n",
       "</table>\n",
       "<p>5 rows × 26 columns</p>\n",
       "</div>"
      ],
      "text/plain": [
       "      总价       单价    建筑面积  室  厅  卫  中装  毛坯  简装  精装  ...  南东北  南北  西  西北  西南  \\\n",
       "0  300.0  34091.0   88.00  3  2  1   0   0   0   1  ...    0   1  0   0   0   \n",
       "1  326.0  27726.0  117.58  3  2  1   0   0   1   0  ...    0   0  0   0   0   \n",
       "2  295.0  33447.0   88.20  3  2  1   0   0   0   1  ...    0   1  0   0   0   \n",
       "3  315.0  25200.0  125.00  3  2  2   1   0   0   0  ...    0   1  0   0   0   \n",
       "4  420.0  37320.0  112.54  4  2  2   0   0   1   0  ...    0   1  0   0   0   \n",
       "\n",
       "   中楼层  低楼层  底层  顶层  高楼层  \n",
       "0    1    0   0   0    0  \n",
       "1    0    1   0   0    0  \n",
       "2    0    0   0   0    1  \n",
       "3    0    0   1   0    0  \n",
       "4    1    0   0   0    0  \n",
       "\n",
       "[5 rows x 26 columns]"
      ]
     },
     "execution_count": 39,
     "metadata": {},
     "output_type": "execute_result"
    }
   ],
   "source": [
    "df.head()"
   ]
  },
  {
   "cell_type": "code",
   "execution_count": 40,
   "metadata": {},
   "outputs": [],
   "source": [
    "# 删除逻辑错误的数据\n",
    "del df[\"东西\"]\n",
    "del df[\"南东北\"]\n",
    "del df[\"南北\"]\n",
    "\n",
    "# 删除多重共线性的数据\n",
    "del df['西']\n",
    "del df[\"毛坯\"]\n",
    "del df['中楼层']"
   ]
  },
  {
   "cell_type": "code",
   "execution_count": 41,
   "metadata": {},
   "outputs": [
    {
     "data": {
      "text/html": [
       "<div>\n",
       "<style scoped>\n",
       "    .dataframe tbody tr th:only-of-type {\n",
       "        vertical-align: middle;\n",
       "    }\n",
       "\n",
       "    .dataframe tbody tr th {\n",
       "        vertical-align: top;\n",
       "    }\n",
       "\n",
       "    .dataframe thead th {\n",
       "        text-align: right;\n",
       "    }\n",
       "</style>\n",
       "<table border=\"1\" class=\"dataframe\">\n",
       "  <thead>\n",
       "    <tr style=\"text-align: right;\">\n",
       "      <th></th>\n",
       "      <th>总价</th>\n",
       "      <th>单价</th>\n",
       "      <th>建筑面积</th>\n",
       "      <th>室</th>\n",
       "      <th>厅</th>\n",
       "      <th>卫</th>\n",
       "      <th>中装</th>\n",
       "      <th>简装</th>\n",
       "      <th>精装</th>\n",
       "      <th>东</th>\n",
       "      <th>东北</th>\n",
       "      <th>东南</th>\n",
       "      <th>北</th>\n",
       "      <th>南</th>\n",
       "      <th>西北</th>\n",
       "      <th>西南</th>\n",
       "      <th>低楼层</th>\n",
       "      <th>底层</th>\n",
       "      <th>顶层</th>\n",
       "      <th>高楼层</th>\n",
       "    </tr>\n",
       "  </thead>\n",
       "  <tbody>\n",
       "    <tr>\n",
       "      <th>0</th>\n",
       "      <td>300.0</td>\n",
       "      <td>34091.0</td>\n",
       "      <td>88.00</td>\n",
       "      <td>3</td>\n",
       "      <td>2</td>\n",
       "      <td>1</td>\n",
       "      <td>0</td>\n",
       "      <td>0</td>\n",
       "      <td>1</td>\n",
       "      <td>0</td>\n",
       "      <td>0</td>\n",
       "      <td>0</td>\n",
       "      <td>0</td>\n",
       "      <td>0</td>\n",
       "      <td>0</td>\n",
       "      <td>0</td>\n",
       "      <td>0</td>\n",
       "      <td>0</td>\n",
       "      <td>0</td>\n",
       "      <td>0</td>\n",
       "    </tr>\n",
       "    <tr>\n",
       "      <th>1</th>\n",
       "      <td>326.0</td>\n",
       "      <td>27726.0</td>\n",
       "      <td>117.58</td>\n",
       "      <td>3</td>\n",
       "      <td>2</td>\n",
       "      <td>1</td>\n",
       "      <td>0</td>\n",
       "      <td>1</td>\n",
       "      <td>0</td>\n",
       "      <td>0</td>\n",
       "      <td>0</td>\n",
       "      <td>0</td>\n",
       "      <td>0</td>\n",
       "      <td>1</td>\n",
       "      <td>0</td>\n",
       "      <td>0</td>\n",
       "      <td>1</td>\n",
       "      <td>0</td>\n",
       "      <td>0</td>\n",
       "      <td>0</td>\n",
       "    </tr>\n",
       "    <tr>\n",
       "      <th>2</th>\n",
       "      <td>295.0</td>\n",
       "      <td>33447.0</td>\n",
       "      <td>88.20</td>\n",
       "      <td>3</td>\n",
       "      <td>2</td>\n",
       "      <td>1</td>\n",
       "      <td>0</td>\n",
       "      <td>0</td>\n",
       "      <td>1</td>\n",
       "      <td>0</td>\n",
       "      <td>0</td>\n",
       "      <td>0</td>\n",
       "      <td>0</td>\n",
       "      <td>0</td>\n",
       "      <td>0</td>\n",
       "      <td>0</td>\n",
       "      <td>0</td>\n",
       "      <td>0</td>\n",
       "      <td>0</td>\n",
       "      <td>1</td>\n",
       "    </tr>\n",
       "    <tr>\n",
       "      <th>3</th>\n",
       "      <td>315.0</td>\n",
       "      <td>25200.0</td>\n",
       "      <td>125.00</td>\n",
       "      <td>3</td>\n",
       "      <td>2</td>\n",
       "      <td>2</td>\n",
       "      <td>1</td>\n",
       "      <td>0</td>\n",
       "      <td>0</td>\n",
       "      <td>0</td>\n",
       "      <td>0</td>\n",
       "      <td>0</td>\n",
       "      <td>0</td>\n",
       "      <td>0</td>\n",
       "      <td>0</td>\n",
       "      <td>0</td>\n",
       "      <td>0</td>\n",
       "      <td>1</td>\n",
       "      <td>0</td>\n",
       "      <td>0</td>\n",
       "    </tr>\n",
       "    <tr>\n",
       "      <th>4</th>\n",
       "      <td>420.0</td>\n",
       "      <td>37320.0</td>\n",
       "      <td>112.54</td>\n",
       "      <td>4</td>\n",
       "      <td>2</td>\n",
       "      <td>2</td>\n",
       "      <td>0</td>\n",
       "      <td>1</td>\n",
       "      <td>0</td>\n",
       "      <td>0</td>\n",
       "      <td>0</td>\n",
       "      <td>0</td>\n",
       "      <td>0</td>\n",
       "      <td>0</td>\n",
       "      <td>0</td>\n",
       "      <td>0</td>\n",
       "      <td>0</td>\n",
       "      <td>0</td>\n",
       "      <td>0</td>\n",
       "      <td>0</td>\n",
       "    </tr>\n",
       "  </tbody>\n",
       "</table>\n",
       "</div>"
      ],
      "text/plain": [
       "      总价       单价    建筑面积  室  厅  卫  中装  简装  精装  东  东北  东南  北  南  西北  西南  低楼层  \\\n",
       "0  300.0  34091.0   88.00  3  2  1   0   0   1  0   0   0  0  0   0   0    0   \n",
       "1  326.0  27726.0  117.58  3  2  1   0   1   0  0   0   0  0  1   0   0    1   \n",
       "2  295.0  33447.0   88.20  3  2  1   0   0   1  0   0   0  0  0   0   0    0   \n",
       "3  315.0  25200.0  125.00  3  2  2   1   0   0  0   0   0  0  0   0   0    0   \n",
       "4  420.0  37320.0  112.54  4  2  2   0   1   0  0   0   0  0  0   0   0    0   \n",
       "\n",
       "   底层  顶层  高楼层  \n",
       "0   0   0    0  \n",
       "1   0   0    0  \n",
       "2   0   0    1  \n",
       "3   1   0    0  \n",
       "4   0   0    0  "
      ]
     },
     "execution_count": 41,
     "metadata": {},
     "output_type": "execute_result"
    }
   ],
   "source": [
    "df.head()"
   ]
  },
  {
   "cell_type": "code",
   "execution_count": 42,
   "metadata": {},
   "outputs": [
    {
     "name": "stdout",
     "output_type": "stream",
     "text": [
      "<class 'pandas.core.frame.DataFrame'>\n",
      "RangeIndex: 3000 entries, 0 to 2999\n",
      "Data columns (total 20 columns):\n",
      " #   Column  Non-Null Count  Dtype  \n",
      "---  ------  --------------  -----  \n",
      " 0   总价      3000 non-null   float64\n",
      " 1   单价      3000 non-null   float64\n",
      " 2   建筑面积    3000 non-null   float64\n",
      " 3   室       3000 non-null   int32  \n",
      " 4   厅       3000 non-null   int32  \n",
      " 5   卫       3000 non-null   int32  \n",
      " 6   中装      3000 non-null   uint8  \n",
      " 7   简装      3000 non-null   uint8  \n",
      " 8   精装      3000 non-null   uint8  \n",
      " 9   东       3000 non-null   uint8  \n",
      " 10  东北      3000 non-null   uint8  \n",
      " 11  东南      3000 non-null   uint8  \n",
      " 12  北       3000 non-null   uint8  \n",
      " 13  南       3000 non-null   uint8  \n",
      " 14  西北      3000 non-null   uint8  \n",
      " 15  西南      3000 non-null   uint8  \n",
      " 16  低楼层     3000 non-null   uint8  \n",
      " 17  底层      3000 non-null   uint8  \n",
      " 18  顶层      3000 non-null   uint8  \n",
      " 19  高楼层     3000 non-null   uint8  \n",
      "dtypes: float64(3), int32(3), uint8(14)\n",
      "memory usage: 146.6 KB\n"
     ]
    }
   ],
   "source": [
    "df.info()"
   ]
  },
  {
   "cell_type": "code",
   "execution_count": 43,
   "metadata": {},
   "outputs": [],
   "source": [
    "df.to_excel(\"处理后的数据.xlsx\")"
   ]
  },
  {
   "cell_type": "markdown",
   "metadata": {},
   "source": [
    "## 1. 单元线性回归"
   ]
  },
  {
   "cell_type": "code",
   "execution_count": 44,
   "metadata": {},
   "outputs": [
    {
     "data": {
      "image/png": "[encoded data removed]",
      "text/plain": [
       "<Figure size 432x288 with 1 Axes>"
      ]
     },
     "metadata": {
      "needs_background": "light"
     },
     "output_type": "display_data"
    }
   ],
   "source": [
    "# 绘制建筑面积和总价的散点图\n",
    "import matplotlib.pyplot as plt\n",
    "df1 = df[df[\"建筑面积\"]<=200]\n",
    "#print(df1.count())\n",
    "area = df1[[\"建筑面积\"]]\n",
    "price = df1[[\"总价\"]]\n",
    "plt.scatter(area,price)\n",
    "plt.show()"
   ]
  },
  {
   "cell_type": "code",
   "execution_count": 45,
   "metadata": {},
   "outputs": [
    {
     "name": "stdout",
     "output_type": "stream",
     "text": [
      "[-131.18728325] [[5.46659644]]\n"
     ]
    }
   ],
   "source": [
    "#使用线性回归拟合\n",
    "from sklearn.linear_model import LinearRegression\n",
    "linear = LinearRegression()\n",
    "#训练\n",
    "model = linear.fit(area,price)\n",
    "print(model.intercept_,model.coef_)"
   ]
  },
  {
   "cell_type": "code",
   "execution_count": 46,
   "metadata": {},
   "outputs": [],
   "source": [
    "#预测\n",
    "price_ = model.predict(area)"
   ]
  },
  {
   "cell_type": "code",
   "execution_count": 47,
   "metadata": {},
   "outputs": [
    {
     "data": {
      "image/png": "[encoded data removed]",
      "text/plain": [
       "<Figure size 1440x720 with 1 Axes>"
      ]
     },
     "metadata": {
      "needs_background": "light"
     },
     "output_type": "display_data"
    }
   ],
   "source": [
    "# 将预测的房价和原始的数据的散点图绘制在一张图上\n",
    "# 绘制建筑面积和总价的散点图\n",
    "import matplotlib.pyplot as plt\n",
    "plt.figure(figsize=(20,10))\n",
    "area = df1[[\"建筑面积\"]]\n",
    "price = df1[[\"总价\"]]\n",
    "plt.scatter(area,price)\n",
    "plt.plot(area,price_,color=\"red\")\n",
    "plt.show()"
   ]
  },
  {
   "cell_type": "markdown",
   "metadata": {},
   "source": [
    "## 2.多元线性回归"
   ]
  },
  {
   "cell_type": "markdown",
   "metadata": {},
   "source": [
    "### 2.1 X和Y的划分"
   ]
  },
  {
   "cell_type": "code",
   "execution_count": 49,
   "metadata": {},
   "outputs": [],
   "source": [
    "cols = [\"建筑面积\",\"室\",\"厅\",\"卫\",\"中装\",\"简装\",\"精装\",\"东\",\"东北\",\"东南\",\"北\",\"南\",\"西北\",\"西南\",\"低楼层\",\"底层\",\"顶层\",\"高楼层\"]\n",
    "X = df1[cols]\n",
    "Y = df1[\"总价\"]"
   ]
  },
  {
   "cell_type": "markdown",
   "metadata": {},
   "source": [
    "### 2.2 训练数据和测试数据的划分"
   ]
  },
  {
   "cell_type": "code",
   "execution_count": 52,
   "metadata": {},
   "outputs": [],
   "source": [
    "# 划分测试集和训练集\n",
    "from sklearn.model_selection import train_test_split\n",
    "x_train,x_test,y_train,y_test = train_test_split(X,Y,test_size=0.2,random_state=10)"
   ]
  },
  {
   "cell_type": "code",
   "execution_count": 53,
   "metadata": {},
   "outputs": [
    {
     "name": "stdout",
     "output_type": "stream",
     "text": [
      "-147.58082177839168 [  5.16582191   2.64151903  -2.13150217  18.62063964 -20.4132058\n",
      "   7.89634773  26.49400442  -2.26289789  58.38560159  39.58934378\n",
      "  88.05087124   7.40214307 -47.32321583   1.06437488  -4.5420361\n",
      " -29.83305185 -40.03934519  13.50214872]\n"
     ]
    }
   ],
   "source": [
    "#多元线性回归\n",
    "linear_multi = LinearRegression()\n",
    "model = linear_multi.fit(x_train,y_train)\n",
    "#多元线性回归的截距和回归系数\n",
    "print(model.intercept_,model.coef_)"
   ]
  },
  {
   "cell_type": "code",
   "execution_count": 54,
   "metadata": {},
   "outputs": [
    {
     "name": "stdout",
     "output_type": "stream",
     "text": [
      "R-scores: 0.6496198624729579\n"
     ]
    }
   ],
   "source": [
    "predict_result = model.predict(x_test)\n",
    "score = model.score(x_test,y_test)\n",
    "print('R-scores:',score)"
   ]
  },
  {
   "cell_type": "markdown",
   "metadata": {},
   "source": [
    "使用多种特征的组合都可以预测房价，我们需要使用假设检验法，选出最佳的特征组合"
   ]
  },
  {
   "cell_type": "code",
   "execution_count": 55,
   "metadata": {},
   "outputs": [
    {
     "name": "stdout",
     "output_type": "stream",
     "text": [
      "                  Results: Ordinary least squares\n",
      "===================================================================\n",
      "Model:              OLS              Adj. R-squared:     0.659     \n",
      "Dependent Variable: y                AIC:                36568.0148\n",
      "Date:               2020-07-03 23:39 BIC:                36681.9896\n",
      "No. Observations:   2977             Log-Likelihood:     -18265.   \n",
      "Df Model:           18               F-statistic:        320.6     \n",
      "Df Residuals:       2958             Prob (F-statistic): 0.00      \n",
      "R-squared:          0.661            Scale:              12573.    \n",
      "--------------------------------------------------------------------\n",
      "            Coef.    Std.Err.     t     P>|t|     [0.025     0.975] \n",
      "--------------------------------------------------------------------\n",
      "const     -130.3184   13.6148  -9.5718  0.0000  -157.0138  -103.6230\n",
      "建筑面积         5.0668    0.1496  33.8670  0.0000     4.7735     5.3601\n",
      "室            3.3407    4.4238   0.7552  0.4502    -5.3332    12.0147\n",
      "厅           -1.7196    6.4044  -0.2685  0.7883   -14.2771    10.8380\n",
      "卫           20.6905    6.7703   3.0561  0.0023     7.4155    33.9655\n",
      "中装         -34.3639    9.5059  -3.6150  0.0003   -53.0028   -15.7251\n",
      "简装          -5.3914    8.4305  -0.6395  0.5225   -21.9217    11.1390\n",
      "精装          16.7704    6.9916   2.3986  0.0165     3.0615    30.4794\n",
      "东           -6.9023   19.5964  -0.3522  0.7247   -45.3262    31.5216\n",
      "东北          55.2842  112.3294   0.4922  0.6226  -164.9674   275.5359\n",
      "东南         -14.5120   33.9821  -0.4270  0.6694   -81.1429    52.1189\n",
      "北           84.0283   26.3053   3.1943  0.0014    32.4497   135.6069\n",
      "南            7.6023    4.3505   1.7475  0.0807    -0.9280    16.1325\n",
      "西北         -47.8864   64.8873  -0.7380  0.4606  -175.1152    79.3423\n",
      "西南         -84.1089   50.4617  -1.6668  0.0957  -183.0525    14.8348\n",
      "低楼层         -6.9046    5.3380  -1.2935  0.1959   -17.3712     3.5620\n",
      "底层         -34.6262    9.0083  -3.8438  0.0001   -52.2894   -16.9631\n",
      "顶层         -42.4180    8.6432  -4.9077  0.0000   -59.3653   -25.4706\n",
      "高楼层         13.4021    5.4014   2.4812  0.0131     2.8112    23.9930\n",
      "-------------------------------------------------------------------\n",
      "Omnibus:             381.866       Durbin-Watson:          1.955   \n",
      "Prob(Omnibus):       0.000         Jarque-Bera (JB):       1837.661\n",
      "Skew:                0.523         Prob(JB):               0.000   \n",
      "Kurtosis:            6.704         Condition No.:          5711    \n",
      "===================================================================\n",
      "* The condition number is large (6e+03). This might indicate\n",
      "strong multicollinearity or other numerical problems.\n"
     ]
    }
   ],
   "source": [
    "#使用假设检验法\n",
    "import statsmodels.api as sm\n",
    "Y = df1[\"总价\"].values\n",
    "X = df1[cols]\n",
    "X_ = sm.add_constant(X)\n",
    "#使用最小平方法\n",
    "result = sm.OLS(Y,X_)\n",
    "#fit方法运行计算\n",
    "summary = result.fit()\n",
    "#调用summary2方法，打印出假设检验的系列信息\n",
    "print(summary.summary2())"
   ]
  },
  {
   "cell_type": "code",
   "execution_count": 59,
   "metadata": {},
   "outputs": [
    {
     "name": "stdout",
     "output_type": "stream",
     "text": [
      "-144.4971093645384 [  5.1819451   19.44211249 -24.39439398  21.73268578  -1.96989973\n",
      "  86.06446294   7.10543277  -0.73834871 -28.06995598 -37.25920896\n",
      "  15.29751648]\n",
      "0.6512740673401813\n"
     ]
    }
   ],
   "source": [
    "cols2 = ['建筑面积','卫', '中装', '精装', '东', '北', '南', '西南', '底层','顶层','高楼层']\n",
    "# 划分测试集和训练集\n",
    "X = df1[cols2]\n",
    "Y = df1['总价']\n",
    "from sklearn.model_selection import train_test_split\n",
    "x_train,x_test,y_train,y_test = train_test_split(X,Y,test_size=0.2,random_state=10)\n",
    "# 多元线性回归2\n",
    "linear_multi = LinearRegression()\n",
    "model1 = linear_multi.fit(x_train,y_train)\n",
    "print(model1.intercept_,model1.coef_)\n",
    "print(model1.score(x_test,y_test))"
   ]
  },
  {
   "cell_type": "markdown",
   "metadata": {},
   "source": [
    "### 评价指标"
   ]
  },
  {
   "cell_type": "code",
   "execution_count": 60,
   "metadata": {},
   "outputs": [
    {
     "name": "stdout",
     "output_type": "stream",
     "text": [
      "R-squares:0.48218499540693127\n",
      "MAE:79.68231752939262\n",
      "MSE:13317.957653800559\n"
     ]
    }
   ],
   "source": [
    "from sklearn.metrics import r2_score,mean_absolute_error,mean_squared_error\n",
    "print('R-squares:%s'%(r2_score(model1.predict(x_test),y_test)))\n",
    "print('MAE:%s'%(mean_absolute_error(model1.predict(x_test),y_test)))\n",
    "print('MSE:%s'%(mean_squared_error(model1.predict(x_test),y_test)))"
   ]
  }
 ],
 "metadata": {
  "kernelspec": {
   "display_name": "Python 3",
   "language": "python",
   "name": "python3"
  },
  "language_info": {
   "codemirror_mode": {
    "name": "ipython",
    "version": 3
   },
   "file_extension": ".py",
   "mimetype": "text/x-python",
   "name": "python",
   "nbconvert_exporter": "python",
   "pygments_lexer": "ipython3",
   "version": "3.7.4"
  },
  "varInspector": {
   "cols": {
    "lenName": 16,
    "lenType": 16,
    "lenVar": 40
   },
   "kernels_config": {
    "python": {
     "delete_cmd_postfix": "",
     "delete_cmd_prefix": "del ",
     "library": "var_list.py",
     "varRefreshCmd": "print(var_dic_list())"
    },
    "r": {
     "delete_cmd_postfix": ") ",
     "delete_cmd_prefix": "rm(",
     "library": "var_list.r",
     "varRefreshCmd": "cat(var_dic_list()) "
    }
   },
   "types_to_exclude": [
    "module",
    "function",
    "builtin_function_or_method",
    "instance",
    "_Feature"
   ],
   "window_display": false
  }
 },
 "nbformat": 4,
 "nbformat_minor": 4
}
