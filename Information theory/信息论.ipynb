{
 "cells": [
  {
   "cell_type": "markdown",
   "metadata": {},
   "source": [
    "# 求解熵和平均码长"
   ]
  },
  {
   "cell_type": "code",
   "execution_count": 1,
   "metadata": {},
   "outputs": [],
   "source": [
    "import math\n",
    "def h(x,m):#x为信源字母对应的概率，m对应m进熵\n",
    "    s=0\n",
    "    for i in range(len(x)):\n",
    "        s+=x[i]*math.log(x[i],m)\n",
    "    s=-s\n",
    "    print(\"{}进熵为：{}\".format(m,s))\n",
    "\n",
    "def length(x,l):#x为信源字母对应的概率，l为对应的码字长度\n",
    "    k=0\n",
    "    for i in range(len(x)):\n",
    "        k+=x[i]*l[i]\n",
    "    print(\"平均长度为：\",k)\n",
    "    \n",
    "def disturb(P):#求解平稳分布，P为状态转移矩阵\n",
    "    m = len(P)\n",
    "    "
   ]
  },
  {
   "cell_type": "code",
   "execution_count": 2,
   "metadata": {},
   "outputs": [
    {
     "name": "stdout",
     "output_type": "stream",
     "text": [
      "2进熵为：1.9182958340544893\n"
     ]
    }
   ],
   "source": [
    "x = [1/3,1/3,1/6,1/6]\n",
    "h(x,2)"
   ]
  },
  {
   "cell_type": "code",
   "execution_count": 5,
   "metadata": {},
   "outputs": [
    {
     "name": "stdout",
     "output_type": "stream",
     "text": [
      "2进熵为：0.7219280948873623\n"
     ]
    }
   ],
   "source": [
    "y = [0.2,0.8]\n",
    "h(y,2)"
   ]
  },
  {
   "cell_type": "code",
   "execution_count": 6,
   "metadata": {},
   "outputs": [
    {
     "data": {
      "text/plain": [
       "0.31999999999999995"
      ]
     },
     "execution_count": 6,
     "metadata": {},
     "output_type": "execute_result"
    }
   ],
   "source": [
    "0.72-0.4"
   ]
  },
  {
   "cell_type": "code",
   "execution_count": null,
   "metadata": {},
   "outputs": [],
   "source": []
  }
 ],
 "metadata": {
  "kernelspec": {
   "display_name": "Python 3",
   "language": "python",
   "name": "python3"
  },
  "language_info": {
   "codemirror_mode": {
    "name": "ipython",
    "version": 3
   },
   "file_extension": ".py",
   "mimetype": "text/x-python",
   "name": "python",
   "nbconvert_exporter": "python",
   "pygments_lexer": "ipython3",
   "version": "3.7.4"
  }
 },
 "nbformat": 4,
 "nbformat_minor": 2
}
