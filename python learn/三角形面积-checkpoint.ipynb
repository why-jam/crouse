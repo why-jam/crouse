{
 "cells": [
  {
   "cell_type": "code",
   "execution_count": null,
   "metadata": {},
   "outputs": [],
   "source": [
    "import math\n",
    "x1,y1=eval(input(\"第一个顶点的坐标：\"))\n",
    "x2,y2=eval(input(\"第二个顶点的坐标：\"))\n",
    "x3,y3=eval(input(\"第三个顶点的坐标：\"))\n",
    "a=float(math.sqrt((x1-x2)**2+(y1-y2)**2))\n",
    "b=float(math.sqrt((x1-x3)**2+(y1-y3)**2))\n",
    "c=float(math.sqrt((x2-x3)**2+(y2-y3)**2))\n",
    "print(a,b,c)\n",
    "p=(a+b+c)/2\n",
    "s=math.sqrt(p*(p-a)*(p-b)*(p-c))\n",
    "print(s)\n"
   ]
  }
 ],
 "metadata": {
  "kernelspec": {
   "display_name": "Python 3",
   "language": "python",
   "name": "python3"
  },
  "language_info": {
   "codemirror_mode": {
    "name": "ipython",
    "version": 3
   },
   "file_extension": ".py",
   "mimetype": "text/x-python",
   "name": "python",
   "nbconvert_exporter": "python",
   "pygments_lexer": "ipython3",
   "version": "3.7.3"
  }
 },
 "nbformat": 4,
 "nbformat_minor": 2
}
