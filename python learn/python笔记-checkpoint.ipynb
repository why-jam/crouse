{
 "cells": [
  {
   "cell_type": "markdown",
   "metadata": {},
   "source": [
    "# Markdown基本语法"
   ]
  },
  {
   "cell_type": "markdown",
   "metadata": {},
   "source": [
    "***"
   ]
  },
  {
   "cell_type": "markdown",
   "metadata": {},
   "source": [
    "有关jupyter notebook的**快捷键**\n",
    "+ 按esc键进入命令模式（蓝色边框），按enter键进入编辑模式（绿色边框）\n",
    "+ 命令模式下\n",
    "   + shift+enter 运行当前块并选中下一块\n",
    "   + ctrl+enter 运行当前块\n",
    "   + alt+enter 运行当前块并在下方插入新的块\n",
    "   + Y：切换到代码状态\n",
    "   + M：切换到markdown状态\n",
    "   + R：切换到raw newconvert状态\n",
    "   + A：当前块上方插入新的代码块\n",
    "   + B：当前块下方插入新的代码块\n",
    "   + K：选择上一个代码块\n",
    "   + J：选择下一个代码块\n",
    "   + H：展示快捷键帮助\n",
    "   + X：剪切选中的代码块\n",
    "   + C：复制选中的代码块\n",
    "   + Z：撤销删除操作\n",
    "   + shift+M：将当前块与下一块合并\n",
    "+ 编辑模式下\n",
    "   + shift+enter 运行当前块并选中下一块\n",
    "   + ctrl+enter 运行当前块\n",
    "   + alt+enter 运行当前块并在下方插入新的块\n",
    "   + ctrl+backspace 删除前一个词\n",
    "   + ctrl+M/esc 进入命令模式\n",
    "   + ctrl+shift+P 打开命令选择版"
   ]
  },
  {
   "cell_type": "markdown",
   "metadata": {},
   "source": [
    "***"
   ]
  },
  {
   "cell_type": "markdown",
   "metadata": {},
   "source": [
    "## 一，标题"
   ]
  },
  {
   "cell_type": "markdown",
   "metadata": {},
   "source": [
    "+ 在想要设置为标题的文字前加#号，一级标题用#，二级标题用##，依次增加，最多支持六级标题\n",
    "+ **注：标准语法一般在#后跟个空格再写文字**"
   ]
  },
  {
   "cell_type": "markdown",
   "metadata": {},
   "source": [
    "## 二，字体"
   ]
  },
  {
   "cell_type": "markdown",
   "metadata": {},
   "source": [
    "+ 加粗字体左右用两个*包起来\n",
    "+ 斜体左右用一个*包起来\n",
    "+ 斜体和加粗的字体用三个*包起来\n",
    "   + 例如：~~这是要删除的文字~~"
   ]
  },
  {
   "cell_type": "markdown",
   "metadata": {},
   "source": [
    "## 三，引用"
   ]
  },
  {
   "cell_type": "markdown",
   "metadata": {},
   "source": [
    "+ 在引用的文字前加>即可。引用也可以嵌套，如加两个>>，三个>>>，n个...\n"
   ]
  },
  {
   "cell_type": "markdown",
   "metadata": {},
   "source": [
    "## 四，分割线"
   ]
  },
  {
   "cell_type": "markdown",
   "metadata": {},
   "source": [
    "+ 三个或者三个以上的-或*\n",
    "---\n",
    "好好学习，天天向上"
   ]
  },
  {
   "cell_type": "markdown",
   "metadata": {},
   "source": [
    "## 五，图片"
   ]
  },
  {
   "cell_type": "markdown",
   "metadata": {},
   "source": [
    "+ ![图片alt](图片地址 ''图片title'')\n",
    "   + 图片alt就是显示在图片下面的文字，相当于对图片内容的解释。\n",
    "   + 图片title是图片的标题，当鼠标移到图片上时显示的内容。title可加可不加\n",
    "    "
   ]
  },
  {
   "cell_type": "markdown",
   "metadata": {},
   "source": [
    "## 六，超链接"
   ]
  },
  {
   "cell_type": "markdown",
   "metadata": {},
   "source": [
    "+ [超链接名] (超链接地址 \"超链接title\")\n",
    "  + title可加可不加\n",
    "  \n",
    "  + 例如：\n",
    "  \n",
    "[百度](http://baidu.com)\n",
    "\n",
    "[微软](http://bing.com)"
   ]
  },
  {
   "cell_type": "markdown",
   "metadata": {},
   "source": [
    "## 七，列表"
   ]
  },
  {
   "cell_type": "markdown",
   "metadata": {},
   "source": [
    "+ 无序列表\n",
    "   + 无序列表用-+* 都可以\n",
    "   + 例 \n",
    "      - 列表内容\n",
    "      + 列表内容\n",
    "      * 列表内容\n",
    "\n",
    "注意：- + * 跟内容之间都要有一个空格 \n",
    "+ 有序列表\n",
    "   + 语法：数字加点\n",
    "   + 例\n",
    "      1. 列表内容\n",
    "      2. 列表内容\n",
    "      3. 列表内容\n",
    "      \n",
    "注意：序号和内容之间要有空格\n",
    "+ 列表嵌套\n",
    "   + 上一级和下一级之间敲三个空格即可"
   ]
  },
  {
   "cell_type": "markdown",
   "metadata": {},
   "source": [
    "## 八，表格"
   ]
  },
  {
   "cell_type": "markdown",
   "metadata": {},
   "source": [
    "语法如下：\n",
    "```\n",
    "表头|表头|表头\n",
    "---|:--:|---:\n",
    "内容|内容|内容\n",
    "内容|内容|内容\n",
    "```\n",
    "* 第二行分割表头和内容。\n",
    "* 有一个就行，为了对齐，多加了几个文字默认居左\n",
    "* 两边加：表示文字居中\n",
    "* 右边加：表示文字居右\n",
    "注：原生的语法两边都要用 | 包起来。\n",
    "  \n",
    " 例如\n",
    " \n",
    "姓名|班级|序号\n",
    "---|:--:|---:\n",
    "张三|一班|01\n",
    "李四|二班|02"
   ]
  },
  {
   "cell_type": "markdown",
   "metadata": {},
   "source": [
    "## 九，代码"
   ]
  },
  {
   "cell_type": "markdown",
   "metadata": {},
   "source": [
    "语法：\n",
    "\n",
    "+ 单行代码：代码之间分别用一个反引号包起来\n",
    "\n",
    " `代码内容`\n",
    "+ 代码块：代码之间分别用三个反引号包起来，且两边的反引号单独占一行\n",
    "```\n",
    "  代码...\n",
    "  代码...\n",
    "  代码...\n",
    "```"
   ]
  },
  {
   "cell_type": "markdown",
   "metadata": {},
   "source": [
    "***"
   ]
  },
  {
   "cell_type": "markdown",
   "metadata": {},
   "source": [
    "# latex命令，符号"
   ]
  },
  {
   "cell_type": "markdown",
   "metadata": {},
   "source": [
    "## 一，插入公式"
   ]
  },
  {
   "cell_type": "markdown",
   "metadata": {},
   "source": [
    "+ 行中公式(放在文中与其它文字混编)可以用如下方法表示：$ 数学公式 $\n",
    "+ 独立公式可以用如下方法表示：$$ 数学公式 $$"
   ]
  },
  {
   "cell_type": "markdown",
   "metadata": {},
   "source": [
    "## 二，输入上下标"
   ]
  },
  {
   "cell_type": "markdown",
   "metadata": {},
   "source": [
    "+ ^表示上标, _ 表示下标。如果上下标的内容多于一个字符，需要用 {}将这些内容括成一个整体，上下标可以嵌套，也可以同时使用。\n",
    "+ 如果要在左右两边都有上下标，可以用\\sideset 命令\n"
   ]
  },
  {
   "cell_type": "markdown",
   "metadata": {},
   "source": [
    "## 三，输入括号和分隔符"
   ]
  },
  {
   "cell_type": "markdown",
   "metadata": {},
   "source": [
    "+ ()、[]和|表示符号本身，使用 \\{\\} 来表示 {}。当要显示大号的括号或分隔符时，要用 \\left 和 \\right 命令。\n",
    "\n",
    "输入|显示\n",
    "---|:---:\n",
    "$$\\langle表达式\\rangle$$|⟨表达式⟩\n",
    "\n",
    "$$\\lceil表达式\\rceil$$|⌈表达式⌉\n",
    "\n",
    "$$\\lfloor表达式\\rfloor$$|⌊表达式⌋\n",
    "\n",
    "$$\\lbrace表达式\\rbrace$$|{表达式}"
   ]
  },
  {
   "cell_type": "markdown",
   "metadata": {},
   "source": [
    "## 四，数学公式的表达"
   ]
  },
  {
   "cell_type": "markdown",
   "metadata": {},
   "source": [
    "### 输入分数    \\frac {分子} {分母}\n",
    "+ 便捷情况可直接输入 \\frac ab来快速生成一个\\frac ab。\n",
    "+ 如果分式很复杂，亦可使用 分子 \\over 分母 命令，此时分数仅有一层。\n",
    "### 输入开方   \\sqrt [根指数，省略时为2] {被开方数}\n",
    "+ 例子：  $$\\sqrt{2} \\quad and \\quad \\sqrt[n]{3}$$\n",
    "### 输入省略号\n",
    "+ \\ldots 表示与文本底线对齐的省略号，\\cdots 表示与文本中线对齐的省略号。\n",
    "### 输入矢量    \\vec{矢量}\n",
    "+ 可以使用 \\overrightarrow等命令自定义字母上方的符号。\n",
    "   1. 例子：\n",
    "$$\\vec{a} \\cdot \\vec{b}=0$$\n",
    "\n",
    "   2. 例子：\n",
    "$$\\overleftarrow{xy} \\quad and \\quad \\overleftrightarrow{xy} \\quad and \\quad \\overrightarrow{xy}$$\n",
    "### 输入积分   \\int_积分下限^积分上限 {被积表达式}\n",
    "+ 例子：\n",
    "$$\\int_0^1 {x^2} \\,{\\rm d}x$$\n",
    "### 输入极限预算   \\lim_{变量 \\to 表达式}\n",
    "+ 如有需求，可以更改 \\to 符号至任意符号。\n",
    "   + 例子：\n",
    "$$ \\lim_{n \\to +\\infty} \\frac{1}{n(n+1)} \\quad and \\quad \\lim_{x\\leftarrow{示例}} \\frac{1}{n(n+1)} $$\n",
    "### 输入累加，累乘运算   \\sum_{下标表达式}^{上标表达式} {累加表达式}\n",
    "+ 类似，使用 \\prod \\bigcup \\bigcap来分别输入累乘、并集和交集。\n",
    "+ 此类符号在行内显示时上下标表达式将会移至右上角和右下角。\n",
    "### 输入希腊字母\n",
    "+ 输入 \\小写希腊字母英文全称和\\首字母大写希腊字母英文全称来分别输入小写和大写希腊字母。\n",
    "+ 对于大写希腊字母与现有字母相同的，直接输入大写字母即可。\n",
    "### 大括号和行标的使用\n",
    "+ 使用 \\left和 \\right来创建自动匹配高度的 (圆括号)，[方括号] 和 {花括号} 。\n",
    "+ 在每个公式末尾前使用\\tag{行标}来实现行标。\n"
   ]
  },
  {
   "cell_type": "markdown",
   "metadata": {},
   "source": [
    "\\sum_{(i,j)\\in V} c$_{ij}$"
   ]
  },
  {
   "cell_type": "markdown",
   "metadata": {},
   "source": [
    "l$_{i,j}$"
   ]
  },
  {
   "cell_type": "markdown",
   "metadata": {},
   "source": [
    "\\sum_{i=1}"
   ]
  },
  {
   "cell_type": "code",
   "execution_count": 10,
   "metadata": {},
   "outputs": [
    {
     "ename": "SyntaxError",
     "evalue": "unexpected character after line continuation character (<ipython-input-10-5abb16e64239>, line 1)",
     "output_type": "error",
     "traceback": [
      "\u001b[1;36m  File \u001b[1;32m\"<ipython-input-10-5abb16e64239>\"\u001b[1;36m, line \u001b[1;32m1\u001b[0m\n\u001b[1;33m    \\sum_{n=0}\u001b[0m\n\u001b[1;37m              ^\u001b[0m\n\u001b[1;31mSyntaxError\u001b[0m\u001b[1;31m:\u001b[0m unexpected character after line continuation character\n"
     ]
    }
   ],
   "source": [
    " \\sum_{n=0}"
   ]
  }
 ],
 "metadata": {
  "kernelspec": {
   "display_name": "Python 3",
   "language": "python",
   "name": "python3"
  },
  "language_info": {
   "codemirror_mode": {
    "name": "ipython",
    "version": 3
   },
   "file_extension": ".py",
   "mimetype": "text/x-python",
   "name": "python",
   "nbconvert_exporter": "python",
   "pygments_lexer": "ipython3",
   "version": "3.7.4"
  }
 },
 "nbformat": 4,
 "nbformat_minor": 2
}
