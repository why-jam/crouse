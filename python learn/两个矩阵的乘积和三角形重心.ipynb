{
 "cells": [
  {
   "cell_type": "markdown",
   "metadata": {},
   "source": [
    "# 两个矩阵的乘积"
   ]
  },
  {
   "cell_type": "code",
   "execution_count": null,
   "metadata": {},
   "outputs": [],
   "source": [
    "# 输入矩阵A\n",
    "B = input(\"Please input matrix1:\")\n",
    "A = []\n",
    "for i,line in enumerate(B.split(\";\")):\n",
    "    A.append([])\n",
    "    for s in line.split(\" \"):\n",
    "        A[i].append(float(s))\n",
    "# 输入矩阵C\n",
    "D = input(\"Please input matrix2:\")\n",
    "C = []\n",
    "for j,line in enumerate(D.split(\";\")):\n",
    "    C.append([])\n",
    "    for k in line.split(\" \"):\n",
    "        C[j].append(float(k))\n",
    "#矩阵的乘积\n",
    "m1 = len(A)  #矩阵A的行数\n",
    "m2 = len(C)  #矩阵A的列数\n",
    "n1 = len(A[0])  #矩阵C的行数\n",
    "n2 = len(C[0])  #矩阵C的列数\n",
    "if n1!=m2:\n",
    "    矩阵的乘积不存在\n",
    "else:\n",
    "    X=[[0]*n2 for p in range(m1)]\n",
    "    for i in range(m1):\n",
    "        for k in range(n2):\n",
    "            for j in range(m2):\n",
    "                X[i][k]+=A[i][j]*C[j][k]\n",
    "print(X)"
   ]
  },
  {
   "cell_type": "markdown",
   "metadata": {},
   "source": [
    "# 三角形的重心"
   ]
  },
  {
   "cell_type": "code",
   "execution_count": 6,
   "metadata": {},
   "outputs": [
    {
     "name": "stdout",
     "output_type": "stream",
     "text": [
      "1.4142135623730951 1.0 1.0\n",
      "[0.3333333333333333, 0.3333333333333333]\n",
      "0.4999999999999998\n"
     ]
    }
   ],
   "source": [
    "from math import sqrt\n",
    "class Triangle():\n",
    "    def __init__(self,p0,p1,p2):\n",
    "        \"\"\"\n",
    "        三角形类的初始化函数\n",
    "        p0:(x_0,y_0)\n",
    "        p1:(x_1,y_1)\n",
    "        p2:(x_2,y_2)\n",
    "        \"\"\"\n",
    "        self.p0=p0\n",
    "        self.p1=p1\n",
    "        self.p2=p2\n",
    "\n",
    "    def length(self):\n",
    "        p0=self.p0\n",
    "        p1=self.p1\n",
    "        p2=self.p2\n",
    "        l2=(p0[0]-p1[0])**2+(p0[1]-p1[1])**2\n",
    "        l2=sqrt(l2)\n",
    "        l1=(p0[0]-p2[0])**2+(p0[1]-p2[1])**2\n",
    "        l1=sqrt(l1)\n",
    "        l0=(p1[0]-p2[0])**2+(p1[1]-p2[1])**2\n",
    "        l0=sqrt(l0)\n",
    "        return l0,l1,l2\n",
    "    \n",
    "    def area(self):\n",
    "    \n",
    "        l0,l1,l2 = self.length()\n",
    "        q=(l0+l1+l2)/2\n",
    "        area=sqrt(q*(q-l0)*(q-l1)*(q-l2))\n",
    "        return area\n",
    "    \n",
    "    def center(self):\n",
    "        p0=self.p0\n",
    "        p1=self.p1\n",
    "        p2=self.p2\n",
    "        p=[0]*2\n",
    "        p[0]=(p0[0]+p1[0]+p2[0])/3\n",
    "        p[1]=(p0[1]+p1[1]+p2[1])/3\n",
    "        return p\n",
    "    \n",
    "\n",
    "p0=(0,0)\n",
    "p1=(1,0)\n",
    "p2=(0,1)\n",
    "t = Triangle(p0,p1,p2)\n",
    "l0,l1,l2=t.length()\n",
    "print(l0,l1,l2)\n",
    "S=t.area()\n",
    "M=t.center()\n",
    "print(M)\n",
    "print(S)"
   ]
  },
  {
   "cell_type": "code",
   "execution_count": null,
   "metadata": {},
   "outputs": [],
   "source": []
  }
 ],
 "metadata": {
  "kernelspec": {
   "display_name": "Python 3",
   "language": "python",
   "name": "python3"
  },
  "language_info": {
   "codemirror_mode": {
    "name": "ipython",
    "version": 3
   },
   "file_extension": ".py",
   "mimetype": "text/x-python",
   "name": "python",
   "nbconvert_exporter": "python",
   "pygments_lexer": "ipython3",
   "version": "3.7.4"
  }
 },
 "nbformat": 4,
 "nbformat_minor": 2
}
