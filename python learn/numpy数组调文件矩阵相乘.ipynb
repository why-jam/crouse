{
 "cells": [
  {
   "cell_type": "code",
   "execution_count": 1,
   "metadata": {},
   "outputs": [
    {
     "name": "stdout",
     "output_type": "stream",
     "text": [
      "[[1. 2. 3.]\n",
      " [2. 3. 4.]]\n",
      "[[3. 4.]\n",
      " [4. 5.]\n",
      " [5. 6.]]\n",
      "[[26 32]\n",
      " [38 47]]\n"
     ]
    }
   ],
   "source": [
    "with open('mat.txt') as f:\n",
    "    import numpy as np\n",
    "    lines = f.readlines()\n",
    "    m0,n0 = np.array(lines[0].split(),dtype = np.int)  #矩阵A 的行列\n",
    "    A = np.zeros((m0,n0),dtype = np.float)\n",
    "    for i,j in enumerate(range(1,m0+1,1)):\n",
    "        A[i] = np.array(lines[j].split(),dtype = np.float)\n",
    "    print(A)\n",
    "    m1,n1 = np.array(lines[1+m0].split(),dtype = np.int)  #矩阵B 的行列\n",
    "    B = np.zeros((m1,n1),dtype = np.float)\n",
    "    for i,j in enumerate(range(m0+2,m0+m1+2,1)):\n",
    "        B[i] = np.array(lines[j].split(),dtype = np.float)\n",
    "    print(B)\n",
    "    if (n0!=m1):\n",
    "        raise ValueError(\"不满足矩阵乘法要求\")\n",
    "    else:\n",
    "        C = np.zeros((m0,n1),dtype = np.int)\n",
    "        for i in range(m0):\n",
    "            for j in range(n1):\n",
    "                for k in range(m1):\n",
    "                    C[i,j] += A[i,k]*B[k,j]\n",
    "        print(C)\n",
    "        "
   ]
  },
  {
   "cell_type": "code",
   "execution_count": null,
   "metadata": {},
   "outputs": [],
   "source": []
  }
 ],
 "metadata": {
  "kernelspec": {
   "display_name": "Python 3",
   "language": "python",
   "name": "python3"
  },
  "language_info": {
   "codemirror_mode": {
    "name": "ipython",
    "version": 3
   },
   "file_extension": ".py",
   "mimetype": "text/x-python",
   "name": "python",
   "nbconvert_exporter": "python",
   "pygments_lexer": "ipython3",
   "version": "3.7.3"
  }
 },
 "nbformat": 4,
 "nbformat_minor": 2
}
