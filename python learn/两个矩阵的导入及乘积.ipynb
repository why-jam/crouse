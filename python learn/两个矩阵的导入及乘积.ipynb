{
 "cells": [
  {
   "cell_type": "code",
   "execution_count": 2,
   "metadata": {},
   "outputs": [
    {
     "name": "stdout",
     "output_type": "stream",
     "text": [
      "[[1.0, 2.0, 3.0], [2.0, 3.0, 4.0]]\n",
      "[[3.0, 4.0], [4.0, 5.0], [5.0, 6.0]]\n",
      "[[26.0, 32.0], [38.0, 47.0]]\n"
     ]
    }
   ],
   "source": [
    "with open('mat.txt') as f:##自动关闭文件\n",
    "    #f = open('mat.txt')  需要在最后关闭文件，当运行过程出错时，没有运行到f，close()，文件未关闭，会占用内存显示正在运行中\n",
    "    lines = f.readlines() \n",
    "    #矩阵A行列的表示\n",
    "    #l = lines[0].split()\n",
    "    #m0 = int(l[0])\n",
    "    #n0 = int(l[1]) \n",
    "    m0,n0 = [int(a) for a in lines[0].split()]\n",
    "    #矩阵A 的表示\n",
    "    #A = [[0]*n0 for i in range(m0)]\n",
    "    #for i,line in enumerate(lines[1:1+m0]):\n",
    "     #   for j,a in enumerate(line.split()):\n",
    "      #          A[i][j] = float(a) \n",
    "    A = [[float(a) for a in line.split()] for line in lines[1:1+m0]]  #列表推导公式\n",
    "    print(A)\n",
    "    #矩阵B行列的表示\n",
    "    #l = lines[1+m0].split()  \n",
    "    #m1 = int(l[0])\n",
    "    #n1 = int(l[1])\n",
    "    m1,n1 = [int(a) for a in lines[1+m0].split()]\n",
    "    #矩阵B的表示\n",
    "    #B = [[0]*n1 for i in range(m1)]\n",
    "    #for i,line in enumerate(lines[m0+2:]):\n",
    "        #for j,a in enumerate(line.split()):\n",
    "                #B[i][j] = float(a)\n",
    "    B = [[float(a) for a in line.split()] for line in lines[2+m0:]]\n",
    "    print(B)\n",
    "    if n0!=m1:\n",
    "        raise ValueError(\"不满足矩阵乘法要求\")\n",
    "    C = []\n",
    "   #C = [[0]*n1 for i in range(m0)]\n",
    "    for i in range(m0):\n",
    "        C.append([0]*n1)\n",
    "        for j in range(n1):\n",
    "            for k in range(n0):\n",
    "                C[i][j]+=A[i][k]*B[k][j]\n",
    "    print(C)\n",
    "    #f.close()"
   ]
  },
  {
   "cell_type": "markdown",
   "metadata": {},
   "source": [
    "### [[0]*n]*m #地址相同，改变形式但是实质却是指向相同的，可以用[[0]*n for i in range(m)]表示"
   ]
  },
  {
   "cell_type": "markdown",
   "metadata": {},
   "source": [
    "### %run matmu.py #magic command  将 txt文档的结尾改为.py  注意在txt里面保存"
   ]
  }
 ],
 "metadata": {
  "kernelspec": {
   "display_name": "Python 3",
   "language": "python",
   "name": "python3"
  },
  "language_info": {
   "codemirror_mode": {
    "name": "ipython",
    "version": 3
   },
   "file_extension": ".py",
   "mimetype": "text/x-python",
   "name": "python",
   "nbconvert_exporter": "python",
   "pygments_lexer": "ipython3",
   "version": "3.7.4"
  }
 },
 "nbformat": 4,
 "nbformat_minor": 2
}
